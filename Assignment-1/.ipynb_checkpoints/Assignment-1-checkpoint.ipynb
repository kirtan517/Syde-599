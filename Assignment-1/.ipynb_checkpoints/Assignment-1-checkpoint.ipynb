{
 "cells": [
  {
   "cell_type": "code",
   "execution_count": 1,
   "id": "1028ccbe-71f0-440e-ae3d-a225c76aafcd",
   "metadata": {},
   "outputs": [],
   "source": [
    "import numpy as np"
   ]
  },
  {
   "cell_type": "code",
   "execution_count": 2,
   "id": "b66f391f-ca47-4c91-a08f-32df6615eb24",
   "metadata": {},
   "outputs": [],
   "source": [
    "# variable holder \n",
    "class Variable():\n",
    "\n",
    "    def __init__(self,inputShapes):\n",
    "        pass\n",
    "\n",
    "    def forward(self,):\n",
    "        pass\n",
    "\n",
    "    def backward(self,value):\n",
    "        pass"
   ]
  },
  {
   "cell_type": "code",
   "execution_count": 3,
   "id": "b347e110-7285-484e-81bd-59a5e24abf1f",
   "metadata": {},
   "outputs": [],
   "source": [
    "class MatrixMul():\n",
    "\n",
    "    def __init__(self):\n",
    "        pass \n",
    "\n",
    "    def __call__(self):\n",
    "        pass \n",
    "\n",
    "    def forward(self,):\n",
    "        pass\n",
    "\n",
    "    def backward(self,value):\n",
    "        pass "
   ]
  },
  {
   "cell_type": "code",
   "execution_count": 4,
   "id": "f611a5e7-5d93-43f5-8e72-4418e347fcde",
   "metadata": {},
   "outputs": [],
   "source": [
    "class RegressionLoss():\n",
    "\n",
    "    def __init__(self):\n",
    "        pass\n",
    "\n",
    "    def forward(self,):\n",
    "        pass \n",
    "\n",
    "    def __call__(self):\n",
    "        pass\n",
    "\n",
    "    def backward(self,value):\n",
    "        ## Each of this functions should call the backward function of it's calle variables.\n",
    "        pass"
   ]
  },
  {
   "cell_type": "code",
   "execution_count": 6,
   "id": "8140137b-6438-4265-bda1-d8f0cb792ee7",
   "metadata": {},
   "outputs": [],
   "source": [
    "# optional if needed \n",
    "class Linear():\n",
    "    pass "
   ]
  },
  {
   "cell_type": "code",
   "execution_count": null,
   "id": "87de6a80-8048-41d7-ba0d-e62ac57d347f",
   "metadata": {},
   "outputs": [],
   "source": [
    "### Goal \n",
    "# feel free to change the structure as you the need be\n",
    "# This are just my initial thoughts \n",
    "# A = varialbe(n,m)\n",
    "# w1 = variable(n,m)\n",
    "# h1 = Matmul(A,w1)\n",
    "# o1 = ReLu(h1)\n",
    "# w2 = variable(n,m)\n",
    "# h2 = Matmul(o1,w2)\n",
    "# w3 = variable(n,m)\n",
    "# loss = RegLoss(Matmul(h2,w3))\n",
    "# loss.backward()"
   ]
  }
 ],
 "metadata": {
  "kernelspec": {
   "display_name": "Python 3 (ipykernel)",
   "language": "python",
   "name": "python3"
  },
  "language_info": {
   "codemirror_mode": {
    "name": "ipython",
    "version": 3
   },
   "file_extension": ".py",
   "mimetype": "text/x-python",
   "name": "python",
   "nbconvert_exporter": "python",
   "pygments_lexer": "ipython3",
   "version": "3.10.13"
  }
 },
 "nbformat": 4,
 "nbformat_minor": 5
}
