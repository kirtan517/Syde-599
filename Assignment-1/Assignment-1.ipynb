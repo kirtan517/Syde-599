{
 "cells": [
  {
   "cell_type": "code",
   "execution_count": 649,
   "id": "1028ccbe-71f0-440e-ae3d-a225c76aafcd",
   "metadata": {
    "ExecuteTime": {
     "end_time": "2023-10-19T01:15:56.135968Z",
     "start_time": "2023-10-19T01:15:56.128924Z"
    }
   },
   "outputs": [],
   "source": [
    "import numpy as np\n",
    "import pickle\n",
    "import matplotlib.pyplot as plt\n",
    "\n",
    "# we assumed that 2 dimensional shape"
   ]
  },
  {
   "cell_type": "code",
   "execution_count": null,
   "outputs": [],
   "source": [
    "# variable holder \n",
    "class Variable():\n",
    "    def __init__(self,inputShapes,data = None,requires_grad = True):\n",
    "        # keep the step size to be scalar\n",
    "        self.shape = inputShapes\n",
    "        self.requires_grad = True\n",
    "        self.data = data.copy()\n",
    "        if type(self.data) == type(None):\n",
    "            self.value = np.random.rand(*self.shape) # 2d vector\n",
    "        else:\n",
    "            self.value = data\n",
    "\n",
    "    def forward(self):\n",
    "        return self.value\n",
    "\n",
    "    def backward(self,value,learning_rate):\n",
    "        # print(\"Variable  \" , value.shape)\n",
    "        # print(\"Original \" , self.value.shape)\n",
    "        if(self.requires_grad):\n",
    "            self.value -= learning_rate * value"
   ],
   "metadata": {
    "collapsed": false
   },
   "id": "3d0a887d0a213c65"
  },
  {
   "cell_type": "code",
   "execution_count": 652,
   "id": "b347e110-7285-484e-81bd-59a5e24abf1f",
   "metadata": {
    "ExecuteTime": {
     "end_time": "2023-10-19T01:15:56.538131Z",
     "start_time": "2023-10-19T01:15:56.532398Z"
    }
   },
   "outputs": [],
   "source": [
    "class MatrixMul():\n",
    "\n",
    "    def __init__(self):\n",
    "        pass \n",
    "\n",
    "    def __call__(self):\n",
    "        pass \n",
    "\n",
    "    def forward(self,matrixA, matrixB):\n",
    "        # matrixA is of Variable type\n",
    "        # matrixB is of variable type\n",
    "        # self.value is always numpy array in all the classes\n",
    "        self.matrixA = matrixA\n",
    "        self.matrixB = matrixB\n",
    "        # print(\"This is the matrix A : \",matrixA.value.shape)\n",
    "        # print(\"This is the matrix B : \",matrixB.value.shape)\n",
    "        self.value = self.matrixA.value @ self.matrixB.value\n",
    "\n",
    "        return self.value\n",
    "\n",
    "    def backward(self,value,learning_rate):\n",
    "        # value # matrix\n",
    "        # print(\"This is MatrixMul : \" , value.shape)\n",
    "        self.result1 = value @ self.matrixB.value.T # this will be passed to A\n",
    "        self.result2 = self.matrixA.value.T @ value # this will be passed to B\n",
    "        self.matrixA.backward(self.result1, learning_rate)\n",
    "        self.matrixB.backward(self.result2, learning_rate)\n",
    "\n",
    "        # a * b = c\n",
    "        # dl/dc = matrix\n",
    "        # dl/da = dl/dc . dc/da"
   ]
  },
  {
   "cell_type": "code",
   "execution_count": 653,
   "metadata": {
    "collapsed": false,
    "ExecuteTime": {
     "end_time": "2023-10-19T01:15:56.654765Z",
     "start_time": "2023-10-19T01:15:56.647803Z"
    }
   },
   "outputs": [],
   "source": [
    "class ReLU():\n",
    "\n",
    "    def __init__(self):\n",
    "        pass\n",
    "\n",
    "    def forward(self,prevOperation):\n",
    "        # lastOperation  will be the object of matrix mul\n",
    "        self.prevOperation = prevOperation\n",
    "        self.value = np.where(self.prevOperation.value < 0,0,self.prevOperation.value)\n",
    "        # self.value values will be positive\n",
    "        return self.value\n",
    "\n",
    "    def backward(self,value,learning_rate):\n",
    "        # print(\"This is ReLU : \",value.shape)\n",
    "        temp = np.ones(self.value.shape)\n",
    "        temp = np.where(self.value<=0,0,temp)\n",
    "        self.result = temp * value\n",
    "        self.prevOperation.backward(self.result,learning_rate)"
   ],
   "id": "eb31d78dae2a5378"
  },
  {
   "cell_type": "code",
   "execution_count": 654,
   "id": "f611a5e7-5d93-43f5-8e72-4418e347fcde",
   "metadata": {
    "ExecuteTime": {
     "end_time": "2023-10-19T01:15:56.778093Z",
     "start_time": "2023-10-19T01:15:56.771145Z"
    }
   },
   "outputs": [],
   "source": [
    "class RegressionLoss():\n",
    "\n",
    "    def __init__(self):\n",
    "        pass\n",
    "\n",
    "    def forward(self,original,predicted):\n",
    "        self.original = original\n",
    "        self.predicted = predicted\n",
    "        self.value = np.mean((self.original.value-self.predicted.value) ** 2 / 2)\n",
    "        return self.value\n",
    "\n",
    "    def __call__(self):\n",
    "        pass\n",
    "\n",
    "    def backward(self,value,learning_rate):\n",
    "        ## Each of this functions should call the backward function of it's calle variables.\n",
    "        ## scalar value times\n",
    "        ## [[1]]  1* 1\n",
    "\n",
    "        # print(\"This is the Regression : \", value.shape )\n",
    "        self.dldy = (self.predicted.value - self.original.value) * value * 2 / self.original.shape[0]\n",
    "        # print(\"this is point\" , self.dldy)\n",
    "        # print(\"This should be of type add \", type(self.predicted))\n",
    "        self.predicted.backward(self.dldy,learning_rate)"
   ]
  },
  {
   "cell_type": "code",
   "execution_count": 1,
   "metadata": {
    "collapsed": false,
    "ExecuteTime": {
     "end_time": "2023-10-19T12:44:21.450253Z",
     "start_time": "2023-10-19T12:44:21.441615Z"
    }
   },
   "outputs": [],
   "source": [
    "class BinaryLoss():\n",
    "    def __init__(self):\n",
    "        pass\n",
    "\n",
    "    def sigmoidFunciton(self,x):\n",
    "        return np.reciprocal(np.exp(x * -1))\n",
    "\n",
    "    def backwardSigmoidFunction(self,value):\n",
    "        # Computes the differentaition of the sigmoid function\n",
    "        return self.sigmoidFunciton(value) * (1 - self.sigmoidFunciton(x))\n",
    "\n",
    "    def forward(self,original,predicted):\n",
    "        self.original = original\n",
    "        self.predicted = predicted\n",
    "        self.logits =  self.sigmoidFunciton(self.predicted.value)\n",
    "        #Computes the binary classifiction loss\n",
    "        #TODO:check if its addition or mean\n",
    "        self.value = np.sum(self.original * np.log(self.logits) * -1 + -1 * np.log(1- self.logits) * (1-self.original))\n",
    "        print(self.logits)\n",
    "        print(self.value)\n",
    "        return self.value\n",
    "\n",
    "    def __call__(self):\n",
    "        pass\n",
    "\n",
    "    def backward(self,value):\n",
    "        ## Each of this functions should call the backward function of it's calls variables.\n",
    "        ## scalar value times\n",
    "        ## [[1]]  1* 1\n",
    "        self.sigmoidGrad = self.backwardSigmoidFunction(self.predicted.value) * value # this will be a vector\n",
    "        self.backward(self.sigmoidGrad)\n"
   ],
   "id": "8e267638bc0fc87b"
  },
  {
   "cell_type": "code",
   "execution_count": 656,
   "metadata": {
    "collapsed": false,
    "ExecuteTime": {
     "end_time": "2023-10-19T01:15:57.035054Z",
     "start_time": "2023-10-19T01:15:57.029144Z"
    }
   },
   "outputs": [],
   "source": [
    "class Add():\n",
    "    def __init__(self):\n",
    "        pass\n",
    "\n",
    "    def forward(self, f_input1, f_input2):\n",
    "        self.f_input1 = f_input1\n",
    "        self.f_input2 = f_input2\n",
    "        self.value = f_input1.value + f_input2.value\n",
    "        return self.value\n",
    "\n",
    "    def backward(self, b_grad, learning_rate):\n",
    "        # print(\"This is the Addition : \",b_grad.shape)\n",
    "        self.grad = b_grad * np.ones(self.value.shape)\n",
    "\n",
    "        self.f_input2.backward(self.grad, learning_rate)\n",
    "        self.f_input1.backward(self.grad, learning_rate)\n",
    "\n",
    "        # self.grad = b_grad * 1 #Addition\n",
    "        return self.grad"
   ],
   "id": "a1ccb7ab298cfbd3"
  },
  {
   "cell_type": "code",
   "execution_count": 657,
   "metadata": {
    "collapsed": false,
    "ExecuteTime": {
     "end_time": "2023-10-19T01:15:57.182193Z",
     "start_time": "2023-10-19T01:15:57.175918Z"
    }
   },
   "outputs": [],
   "source": [
    "# for bias\n",
    "class Bias(Variable):\n",
    "\n",
    "     def backward(self,value,learning_rate):\n",
    "         self.update = np.sum(value,axis = 0)\n",
    "         self.value -= self.update * learning_rate"
   ],
   "id": "26bdd03b45a15b46"
  },
  {
   "cell_type": "code",
   "execution_count": null,
   "outputs": [],
   "source": [
    "# optional if needed \n",
    "class Linear():\n",
    "    def __init__(self,weight, bias,activation_function = False):\n",
    "        # weight and bias should be of type Variable\n",
    "        # activation_function True means we are using ReLU\n",
    "        self.weight = weight\n",
    "        self.bias = bias\n",
    "        self.addition = Add()\n",
    "        self.matmul = MatrixMul()\n",
    "        self.activation_function = activation_function\n",
    "        if(self.activation_function):\n",
    "            self.activation = ReLU()\n",
    "\n",
    "    def forward(self,x):\n",
    "        self.input = x\n",
    "        self.value = self.matmul.forward(x,self.weight)\n",
    "        self.value = self.addition.forward(self.matmul,self.bias)\n",
    "        self.finalOperation = self.addition\n",
    "        if(self.activation_function):\n",
    "            self.value = self.activation.forward(self.addition)\n",
    "            self.finalOperation = self.activation\n",
    "        return self.finalOperation\n",
    "\n",
    "    def backward(self,grad,learning_rate):\n",
    "        # print(\"This is linear Linear : \", grad.shape)\n",
    "        if self.activation_function:\n",
    "            self.activation.backward(grad,learning_rate)\n",
    "        else:\n",
    "            self.addition.backward(grad,learning_rate)"
   ],
   "metadata": {
    "collapsed": false
   },
   "id": "8cec31439cda43d2"
  },
  {
   "cell_type": "code",
   "execution_count": 659,
   "id": "dc624f03",
   "metadata": {
    "collapsed": false,
    "ExecuteTime": {
     "end_time": "2023-10-19T01:15:57.791954Z",
     "start_time": "2023-10-19T01:15:57.771323Z"
    }
   },
   "outputs": [],
   "source": [
    "def dataloader():\n",
    "    with open('assignment-one-test-parameters.pkl','rb') as f:\n",
    "        data = pickle.load(f)\n",
    "    inputs = data[\"inputs\"]\n",
    "    w1 = data[\"w1\"]\n",
    "    w2 = data[\"w2\"]\n",
    "    w3 = data[\"w3\"]\n",
    "    b1 = data[\"b1\"]\n",
    "    b2 = data[\"b2\"]\n",
    "    b3 = data[\"b3\"]\n",
    "    targets = np.reshape(data[\"targets\"],(data[\"targets\"].shape[0],1))\n",
    "    params = {\n",
    "        \"w1\" : w1.T,\n",
    "        \"w2\" : w2.T,\n",
    "        \"w3\" : w3.T,\n",
    "        \"b1\" : np.reshape(b1,(1,b1.shape[0])),\n",
    "        \"b2\" : np.reshape(b2,(1,b2.shape[0])),\n",
    "        \"b3\" : np.reshape(b3,(1,b3.shape[0]))\n",
    "    }\n",
    "    trainset = (inputs, targets)\n",
    "\n",
    "    return trainset, params\n"
   ]
  },
  {
   "cell_type": "code",
   "execution_count": null,
   "outputs": [],
   "source": [
    "trainset, params = dataloader()\n",
    "w1 = Variable(params[\"w1\"].shape,data= params[\"w1\"])\n",
    "w2 = Variable(params[\"w2\"].shape,data = params[\"w2\"])\n",
    "w3 = Variable(params[\"w3\"].shape,data = params[\"w3\"])\n",
    "b1 = Bias(params[\"b1\"].shape,data = params[\"b1\"])\n",
    "b2 = Bias(params[\"b2\"].shape,data = params[\"b2\"])\n",
    "b3 = Bias(params[\"b3\"].shape,data = params[\"b3\"])"
   ],
   "metadata": {
    "collapsed": false
   },
   "id": "fde37cbaa26a8604"
  },
  {
   "cell_type": "code",
   "execution_count": 663,
   "metadata": {
    "collapsed": false,
    "ExecuteTime": {
     "end_time": "2023-10-19T01:15:59.087951Z",
     "start_time": "2023-10-19T01:15:59.082528Z"
    }
   },
   "outputs": [
    {
     "name": "stdout",
     "output_type": "stream",
     "text": [
      "w1 shape :  (2, 10)\n",
      "w2 shape :  (10, 10)\n",
      "w3 shape :  (10, 1)\n"
     ]
    }
   ],
   "source": [
    "print(\"w1 shape : \",w1.value.shape)\n",
    "print(\"w2 shape : \",w2.value.shape)\n",
    "print(\"w3 shape : \",w3.value.shape)"
   ],
   "id": "2897e839e4f467e"
  },
  {
   "cell_type": "code",
   "execution_count": null,
   "outputs": [],
   "source": [
    "def get_batches(x,y,batch_size):\n",
    "    # shuffle the dataset\n",
    "    number_of_steps = x.shape[0] // batch_size\n",
    "\n",
    "    #TODO: shuffle the dataset\n",
    "    # pass the dataset\n",
    "    start = 0\n",
    "    end = batch_size\n",
    "    for i in range(number_of_steps):\n",
    "        x_final = Variable(x[start : end].shape,x[start : end],requires_grad=False)\n",
    "        y_final  = Variable(y[start : end].shape,y[start:end], requires_grad=False)\n",
    "        start += batch_size\n",
    "        end += batch_size\n",
    "        yield (x_final,y_final)\n",
    "    if(end > x.shape[0] and start < x.shape[0]):\n",
    "        x_final = Variable(x[start :].shape,x[start:],requires_grad=False)\n",
    "        y_final  = Variable(y[start :].shape,y[start:], requires_grad=False)\n",
    "        yield (x_final,y_final)"
   ],
   "metadata": {
    "collapsed": false
   },
   "id": "7e81a21d7dad0908"
  },
  {
   "cell_type": "code",
   "execution_count": 667,
   "metadata": {
    "collapsed": false,
    "ExecuteTime": {
     "end_time": "2023-10-19T01:16:00.469033Z",
     "start_time": "2023-10-19T01:16:00.462149Z"
    }
   },
   "outputs": [
    {
     "name": "stdout",
     "output_type": "stream",
     "text": [
      "(200, 2)\n",
      "This is the total :  200\n"
     ]
    }
   ],
   "source": [
    "x = trainset[0]\n",
    "y = trainset[1]\n",
    "total = 0\n",
    "k = 30\n",
    "for x,y in get_batches(x,y,200):\n",
    "    print(x.value.shape)\n",
    "    total += x.value.shape[0]\n",
    "    k-=1\n",
    "    if(k == 0):\n",
    "        break\n",
    "print(\"This is the total : \",total)"
   ],
   "id": "74d60a5177da0a36"
  },
  {
   "cell_type": "code",
   "execution_count": null,
   "outputs": [],
   "source": [
    "# training loop\n",
    "n_epochs = 600\n",
    "batch_size = 200\n",
    "learning_rate = 0.01\n",
    "# x = Variable(trainset[0].shape,trainset[0],requires_grad=False)\n",
    "# y_true = Variable(trainset[1].shape,trainset[1],requires_grad=False)\n",
    "\n",
    "# Initialize the netword\n",
    "Linear1 = Linear(w1,b1,True)\n",
    "Linear2 = Linear(w2,b2,True)\n",
    "Linear3 = Linear(w3,b3,False)\n",
    "loss = RegressionLoss()\n",
    "\n",
    "# bookeeping the losses\n",
    "losses = []\n",
    "\n",
    "# run through each of the epochs\n",
    "for _ in range(n_epochs):\n",
    "    for x,y_true in get_batches(trainset[0],trainset[1],batch_size=batch_size):\n",
    "        # forward pass\n",
    "        y = Linear1.forward(x)\n",
    "        y = Linear2.forward(y)\n",
    "        y = Linear3.forward(y)\n",
    "\n",
    "        loss_value = loss.forward(y_true,y)\n",
    "\n",
    "        losses.append(loss_value)\n",
    "\n",
    "        # backward pass\n",
    "        loss.backward(np.array([[1]]), learning_rate)"
   ],
   "metadata": {
    "collapsed": false
   },
   "id": "d426af5cc872eb2d"
  },
  {
   "cell_type": "code",
   "execution_count": 648,
   "id": "61c89f6f",
   "metadata": {
    "collapsed": false,
    "ExecuteTime": {
     "end_time": "2023-10-19T01:02:00.084267Z",
     "start_time": "2023-10-19T01:02:00.029289Z"
    }
   },
   "outputs": [
    {
     "data": {
      "text/plain": "[<matplotlib.lines.Line2D at 0x154b39a50>]"
     },
     "execution_count": 648,
     "metadata": {},
     "output_type": "execute_result"
    },
    {
     "data": {
      "text/plain": "<Figure size 640x480 with 1 Axes>",
      "image/png": "[encoded data removed]"
     },
     "metadata": {},
     "output_type": "display_data"
    }
   ],
   "source": [
    "plt.plot(np.arange(len(losses)),losses)"
   ]
  }
 ],
 "metadata": {
  "kernelspec": {
   "display_name": "Python 3 (ipykernel)",
   "language": "python",
   "name": "python3"
  },
  "language_info": {
   "codemirror_mode": {
    "name": "ipython",
    "version": 3
   },
   "file_extension": ".py",
   "mimetype": "text/x-python",
   "name": "python",
   "nbconvert_exporter": "python",
   "pygments_lexer": "ipython3",
   "version": "3.10.13"
  }
 },
 "nbformat": 4,
 "nbformat_minor": 5
}
