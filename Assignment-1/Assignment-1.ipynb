{
 "cells": [
  {
   "cell_type": "code",
   "execution_count": 377,
   "id": "1028ccbe-71f0-440e-ae3d-a225c76aafcd",
   "metadata": {
    "ExecuteTime": {
     "end_time": "2023-10-19T01:15:56.135968Z",
     "start_time": "2023-10-19T01:15:56.128924Z"
    }
   },
   "outputs": [],
   "source": [
    "import numpy as np\n",
    "import pickle\n",
    "import matplotlib.pyplot as plt\n",
    "\n",
    "# we assumed that 2 dimensional shape"
   ]
  },
  {
   "cell_type": "code",
   "execution_count": 378,
   "id": "b66f391f-ca47-4c91-a08f-32df6615eb24",
   "metadata": {
    "ExecuteTime": {
     "end_time": "2023-10-19T01:15:56.417093Z",
     "start_time": "2023-10-19T01:15:56.411218Z"
    }
   },
   "outputs": [],
   "source": [
    "# variable holder \n",
    "class Variable():\n",
    "    def __init__(self,inputShapes,data = None,requires_grad = True):\n",
    "        # keep the step size to be scalar\n",
    "        self.shape = inputShapes\n",
    "        self.requires_grad = True\n",
    "        self.data = data.copy()\n",
    "        if type(self.data) == type(None):\n",
    "            self.value = np.random.rand(*self.shape) # 2d vector\n",
    "        else:\n",
    "            self.value = data\n",
    "\n",
    "    def forward(self):\n",
    "        return self.value\n",
    "\n",
    "    def backward(self,value,learning_rate):\n",
    "        # print(\"Variable  \" , value.shape)\n",
    "        # print(\"Original \" , self.value.shape)\n",
    "        if(self.requires_grad):\n",
    "            self.value -= learning_rate * value"
   ]
  },
  {
   "cell_type": "code",
   "execution_count": 379,
   "id": "b347e110-7285-484e-81bd-59a5e24abf1f",
   "metadata": {
    "ExecuteTime": {
     "end_time": "2023-10-19T01:15:56.538131Z",
     "start_time": "2023-10-19T01:15:56.532398Z"
    }
   },
   "outputs": [],
   "source": [
    "class MatrixMul():\n",
    "\n",
    "    def __init__(self):\n",
    "        pass \n",
    "\n",
    "    def __call__(self):\n",
    "        pass \n",
    "\n",
    "    def forward(self,matrixA, matrixB):\n",
    "        # matrixA is of Variable type\n",
    "        # matrixB is of variable type\n",
    "        # self.value is always numpy array in all the classes\n",
    "        self.matrixA = matrixA\n",
    "        self.matrixB = matrixB\n",
    "        # print(\"This is the matrix A : \",matrixA.value.shape)\n",
    "        # print(\"This is the matrix B : \",matrixB.value.shape)\n",
    "        self.value = self.matrixA.value @ self.matrixB.value\n",
    "\n",
    "        return self.value\n",
    "\n",
    "    def backward(self,value,learning_rate):\n",
    "        # value # matrix\n",
    "        # print(\"This is MatrixMul : \" , value.shape)\n",
    "        self.result1 = value @ self.matrixB.value.T # this will be passed to A\n",
    "        self.result2 = self.matrixA.value.T @ value # this will be passed to B\n",
    "        self.matrixA.backward(self.result1, learning_rate)\n",
    "        self.matrixB.backward(self.result2, learning_rate)\n",
    "\n",
    "        # a * b = c\n",
    "        # dl/dc = matrix\n",
    "        # dl/da = dl/dc . dc/da"
   ]
  },
  {
   "cell_type": "code",
   "execution_count": 380,
   "metadata": {
    "ExecuteTime": {
     "end_time": "2023-10-19T01:15:56.654765Z",
     "start_time": "2023-10-19T01:15:56.647803Z"
    },
    "collapsed": false
   },
   "outputs": [],
   "source": [
    "class ReLU():\n",
    "\n",
    "    def __init__(self):\n",
    "        pass\n",
    "\n",
    "    def forward(self,prevOperation):\n",
    "        # lastOperation  will be the object of matrix mul\n",
    "        self.prevOperation = prevOperation\n",
    "        self.value = np.where(self.prevOperation.value < 0,0,self.prevOperation.value)\n",
    "        # self.value values will be positive\n",
    "        return self.value\n",
    "\n",
    "    def backward(self,value,learning_rate):\n",
    "        # print(\"This is ReLU : \",value.shape)\n",
    "        temp = np.ones(self.value.shape)\n",
    "        temp = np.where(self.value<=0,0,temp)\n",
    "        self.result = temp * value\n",
    "        self.prevOperation.backward(self.result,learning_rate)"
   ]
  },
  {
   "cell_type": "code",
   "execution_count": 381,
   "id": "f611a5e7-5d93-43f5-8e72-4418e347fcde",
   "metadata": {
    "ExecuteTime": {
     "end_time": "2023-10-19T01:15:56.778093Z",
     "start_time": "2023-10-19T01:15:56.771145Z"
    }
   },
   "outputs": [],
   "source": [
    "class RegressionLoss():\n",
    "\n",
    "    def __init__(self):\n",
    "        pass\n",
    "\n",
    "    def forward(self,original,predicted):\n",
    "        self.original = original\n",
    "        self.predicted = predicted\n",
    "        self.value = np.mean((self.original.value-self.predicted.value) ** 2 / 2)\n",
    "        return self.value\n",
    "\n",
    "    def __call__(self):\n",
    "        pass\n",
    "\n",
    "    def backward(self,value,learning_rate):\n",
    "        ## Each of this functions should call the backward function of it's calle variables.\n",
    "        ## scalar value times\n",
    "        ## [[1]]  1* 1\n",
    "\n",
    "        # print(\"This is the Regression : \", value.shape )\n",
    "        self.dldy = (self.predicted.value - self.original.value) * value * 2 / self.original.shape[0]\n",
    "        # print(\"this is point\" , self.dldy)\n",
    "        # print(\"This should be of type add \", type(self.predicted))\n",
    "        self.predicted.backward(self.dldy,learning_rate)"
   ]
  },
  {
   "cell_type": "code",
   "execution_count": 382,
   "metadata": {
    "ExecuteTime": {
     "end_time": "2023-10-19T01:15:56.903236Z",
     "start_time": "2023-10-19T01:15:56.896105Z"
    },
    "collapsed": false
   },
   "outputs": [],
   "source": [
    "class BinaryLoss():\n",
    "    def __init__(self):\n",
    "        pass\n",
    "\n",
    "    def sigmoidFunciton(self,x):\n",
    "        return np.reciprocal(np.exp(x * -1))\n",
    "\n",
    "    def backwardSigmoidFunction(self,value):\n",
    "        #TODO\n",
    "        pass\n",
    "\n",
    "    def forward(self,original,predicted):\n",
    "        self.original = original\n",
    "        self.predicted = predicted\n",
    "        self.logits =  self.sigmoidFunciton(self.predicted)\n",
    "        #TODO: Compute the binary loss\n",
    "        self.value = np.sum(self.original * np.log(self.logits) * -1 + -1 * np.log(1- self.logits) * (1-self.original))\n",
    "        print(self.logits)\n",
    "        print(self.value)\n",
    "        return self.value\n",
    "\n",
    "    def __call__(self):\n",
    "        pass\n",
    "\n",
    "    def backward(self,value):\n",
    "        ## Each of this functions should call the backward function of it's calls variables.\n",
    "        ## scalar value times\n",
    "        ## [[1]]  1* 1\n",
    "        #TODO\n",
    "\n",
    "        pass\n"
   ]
  },
  {
   "cell_type": "code",
   "execution_count": 383,
   "metadata": {
    "ExecuteTime": {
     "end_time": "2023-10-19T01:15:57.035054Z",
     "start_time": "2023-10-19T01:15:57.029144Z"
    },
    "collapsed": false
   },
   "outputs": [],
   "source": [
    "class Add():\n",
    "    def __init__(self):\n",
    "        pass\n",
    "\n",
    "    def forward(self, f_input1, f_input2):\n",
    "        self.f_input1 = f_input1\n",
    "        self.f_input2 = f_input2\n",
    "        self.value = f_input1.value + f_input2.value\n",
    "        return self.value\n",
    "\n",
    "    def backward(self, b_grad, learning_rate):\n",
    "        # print(\"This is the Addition : \",b_grad.shape)\n",
    "        self.grad = b_grad * np.ones(self.value.shape)\n",
    "\n",
    "        self.f_input2.backward(self.grad, learning_rate)\n",
    "        self.f_input1.backward(self.grad, learning_rate)\n",
    "\n",
    "        # self.grad = b_grad * 1 #Addition\n",
    "        return self.grad"
   ]
  },
  {
   "cell_type": "code",
   "execution_count": 384,
   "metadata": {
    "ExecuteTime": {
     "end_time": "2023-10-19T01:15:57.182193Z",
     "start_time": "2023-10-19T01:15:57.175918Z"
    },
    "collapsed": false
   },
   "outputs": [],
   "source": [
    "# for bias\n",
    "class Bias(Variable):\n",
    "\n",
    "     def backward(self,value,learning_rate):\n",
    "         self.update = np.sum(value,axis = 0)\n",
    "         self.value -= self.update * learning_rate"
   ]
  },
  {
   "cell_type": "code",
   "execution_count": 386,
   "id": "8140137b-6438-4265-bda1-d8f0cb792ee7",
   "metadata": {
    "ExecuteTime": {
     "end_time": "2023-10-19T01:15:57.329914Z",
     "start_time": "2023-10-19T01:15:57.322506Z"
    }
   },
   "outputs": [],
   "source": [
    "# optional if needed \n",
    "class Linear():\n",
    "    def __init__(self,weight, bias,activation_function = False):\n",
    "        # weight and bias should be of type Variable\n",
    "        # activation_function True means we are using ReLU\n",
    "        self.weight = weight\n",
    "        self.bias = bias\n",
    "        self.addition = Add()\n",
    "        self.matmul = MatrixMul()\n",
    "        self.activation_function = activation_function\n",
    "        if(self.activation_function):\n",
    "            self.activation = ReLU()\n",
    "\n",
    "    def forward(self,x):\n",
    "        self.input = x\n",
    "        self.value = self.matmul.forward(x,self.weight)\n",
    "        self.value = self.addition.forward(self.matmul,self.bias)\n",
    "        self.finalOperation = self.addition\n",
    "        if(self.activation_function):\n",
    "            self.value = self.activation.forward(self.addition)\n",
    "            self.finalOperation = self.activation\n",
    "        return self.finalOperation\n",
    "\n",
    "    def backward(self,grad,learning_rate):\n",
    "        # print(\"This is linear Linear : \", grad.shape)\n",
    "        if self.activation_function:\n",
    "            self.activation.backward(grad,learning_rate)\n",
    "        else:\n",
    "            self.addition.backward(grad,learning_rate)"
   ]
  },
  {
   "cell_type": "code",
   "execution_count": 387,
   "id": "dc624f03",
   "metadata": {
    "ExecuteTime": {
     "end_time": "2023-10-19T01:15:57.791954Z",
     "start_time": "2023-10-19T01:15:57.771323Z"
    },
    "collapsed": false
   },
   "outputs": [],
   "source": [
    "def dataloader():\n",
    "    with open('assignment-one-test-parameters.pkl','rb') as f:\n",
    "        data = pickle.load(f)\n",
    "    inputs = data[\"inputs\"]\n",
    "    w1 = data[\"w1\"]\n",
    "    w2 = data[\"w2\"]\n",
    "    w3 = data[\"w3\"]\n",
    "    b1 = data[\"b1\"]\n",
    "    b2 = data[\"b2\"]\n",
    "    b3 = data[\"b3\"]\n",
    "    targets = np.reshape(data[\"targets\"],(data[\"targets\"].shape[0],1))\n",
    "    params = {\n",
    "        \"w1\" : w1.T,\n",
    "        \"w2\" : w2.T,\n",
    "        \"w3\" : w3.T,\n",
    "        \"b1\" : np.reshape(b1,(1,b1.shape[0])),\n",
    "        \"b2\" : np.reshape(b2,(1,b2.shape[0])),\n",
    "        \"b3\" : np.reshape(b3,(1,b3.shape[0]))\n",
    "    }\n",
    "    trainset = (inputs, targets)\n",
    "\n",
    "    return trainset, params\n"
   ]
  },
  {
   "cell_type": "code",
   "execution_count": 388,
   "metadata": {
    "ExecuteTime": {
     "end_time": "2023-10-19T01:15:58.514095Z",
     "start_time": "2023-10-19T01:15:58.506228Z"
    },
    "collapsed": false
   },
   "outputs": [],
   "source": [
    "trainset, params = dataloader()\n",
    "w1 = Variable(params[\"w1\"].shape,data= params[\"w1\"])\n",
    "w2 = Variable(params[\"w2\"].shape,data = params[\"w2\"])\n",
    "w3 = Variable(params[\"w3\"].shape,data = params[\"w3\"])\n",
    "b1 = Bias(params[\"b1\"].shape,data = params[\"b1\"])\n",
    "b2 = Bias(params[\"b2\"].shape,data = params[\"b2\"])\n",
    "b3 = Bias(params[\"b3\"].shape,data = params[\"b3\"])"
   ]
  },
  {
   "cell_type": "code",
   "execution_count": 389,
   "metadata": {
    "ExecuteTime": {
     "end_time": "2023-10-19T01:15:59.087951Z",
     "start_time": "2023-10-19T01:15:59.082528Z"
    },
    "collapsed": false
   },
   "outputs": [
    {
     "name": "stdout",
     "output_type": "stream",
     "text": [
      "w1 shape :  (2, 10)\n",
      "w2 shape :  (10, 10)\n",
      "w3 shape :  (10, 1)\n"
     ]
    }
   ],
   "source": [
    "print(\"w1 shape : \",w1.value.shape)\n",
    "print(\"w2 shape : \",w2.value.shape)\n",
    "print(\"w3 shape : \",w3.value.shape)"
   ]
  },
  {
   "cell_type": "code",
   "execution_count": 390,
   "metadata": {
    "ExecuteTime": {
     "end_time": "2023-10-19T01:15:59.923588Z",
     "start_time": "2023-10-19T01:15:59.919492Z"
    },
    "collapsed": false
   },
   "outputs": [],
   "source": [
    "def get_batches(x,y,batch_size):\n",
    "    # shuffle the dataset\n",
    "    number_of_steps = x.shape[0] // batch_size\n",
    "\n",
    "    #TODO: shuffle the dataset\n",
    "    # pass the dataset\n",
    "    start = 0\n",
    "    end = batch_size\n",
    "    for i in range(number_of_steps):\n",
    "        x_final = Variable(x[start : end].shape,x[start : end],requires_grad=False)\n",
    "        y_final  = Variable(y[start : end].shape,y[start:end], requires_grad=False)\n",
    "        start += batch_size\n",
    "        end += batch_size\n",
    "        yield (x_final,y_final)\n",
    "    if(end > x.shape[0] and start < x.shape[0]):\n",
    "        x_final = Variable(x[start :].shape,x[start:],requires_grad=False)\n",
    "        y_final  = Variable(y[start :].shape,y[start:], requires_grad=False)\n",
    "        yield (x_final,y_final)"
   ]
  },
  {
   "cell_type": "code",
   "execution_count": 391,
   "metadata": {
    "ExecuteTime": {
     "end_time": "2023-10-19T01:16:00.469033Z",
     "start_time": "2023-10-19T01:16:00.462149Z"
    },
    "collapsed": false
   },
   "outputs": [
    {
     "name": "stdout",
     "output_type": "stream",
     "text": [
      "(200, 2)\n",
      "This is the total :  200\n"
     ]
    }
   ],
   "source": [
    "x = trainset[0]\n",
    "y = trainset[1]\n",
    "total = 0\n",
    "k = 30\n",
    "for x,y in get_batches(x,y,200):\n",
    "    print(x.value.shape)\n",
    "    total += x.value.shape[0]\n",
    "    k-=1\n",
    "    if(k == 0):\n",
    "        break\n",
    "print(\"This is the total : \",total)"
   ]
  },
  {
   "cell_type": "code",
   "execution_count": 396,
   "id": "c74b808a",
   "metadata": {
    "ExecuteTime": {
     "end_time": "2023-10-19T01:16:01.531856Z",
     "start_time": "2023-10-19T01:16:01.525421Z"
    },
    "collapsed": false
   },
   "outputs": [],
   "source": [
    "# training loop\n",
    "n_epochs = 600\n",
    "batch_size = 200\n",
    "learning_rate = 0.01\n",
    "# x = Variable(trainset[0].shape,trainset[0],requires_grad=False)\n",
    "# y_true = Variable(trainset[1].shape,trainset[1],requires_grad=False)\n",
    "\n",
    "# Initialize the netword\n",
    "Linear1 = Linear(w1,b1,True)\n",
    "Linear2 = Linear(w2,b2,True)\n",
    "Linear3 = Linear(w3,b3,False)\n",
    "loss = RegressionLoss()\n",
    "\n",
    "# bookeeping the losses\n",
    "losses = []\n",
    "\n",
    "# run through each of the epochs\n",
    "for _ in range(n_epochs):\n",
    "    for x,y_true in get_batches(trainset[0],trainset[1],batch_size=batch_size):\n",
    "        # forward pass\n",
    "        y = Linear1.forward(x)\n",
    "        y = Linear2.forward(y)\n",
    "        y = Linear3.forward(y)\n",
    "\n",
    "        loss_value = loss.forward(y_true,y)\n",
    "\n",
    "        losses.append(loss_value)\n",
    "\n",
    "        # backward pass\n",
    "        loss.backward(np.array([[1]]), learning_rate)"
   ]
  },
  {
   "cell_type": "code",
   "execution_count": 397,
   "id": "61c89f6f",
   "metadata": {
    "ExecuteTime": {
     "end_time": "2023-10-19T01:02:00.084267Z",
     "start_time": "2023-10-19T01:02:00.029289Z"
    },
    "collapsed": false
   },
   "outputs": [
    {
     "data": {
      "text/plain": [
       "[<matplotlib.lines.Line2D at 0x1e09e2335c8>]"
      ]
     },
     "execution_count": 397,
     "metadata": {},
     "output_type": "execute_result"
    },
    {
     "data": {
      "image/png": "[encoded data removed]",
      "text/plain": [
       "<Figure size 640x480 with 1 Axes>"
      ]
     },
     "metadata": {},
     "output_type": "display_data"
    }
   ],
   "source": [
    "plt.plot(np.arange(len(losses)),losses)"
   ]
  }
 ],
 "metadata": {
  "kernelspec": {
   "display_name": "Python 3 (ipykernel)",
   "language": "python",
   "name": "python3"
  },
  "language_info": {
   "codemirror_mode": {
    "name": "ipython",
    "version": 3
   },
   "file_extension": ".py",
   "mimetype": "text/x-python",
   "name": "python",
   "nbconvert_exporter": "python",
   "pygments_lexer": "ipython3",
   "version": "3.7.7"
  }
 },
 "nbformat": 4,
 "nbformat_minor": 5
}
