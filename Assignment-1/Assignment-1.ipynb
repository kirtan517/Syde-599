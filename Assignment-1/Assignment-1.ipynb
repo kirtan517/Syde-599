{
 "cells": [
  {
   "cell_type": "code",
   "execution_count": 39,
   "id": "1028ccbe-71f0-440e-ae3d-a225c76aafcd",
   "metadata": {
    "ExecuteTime": {
     "end_time": "2023-10-18T17:40:35.849151Z",
     "start_time": "2023-10-18T17:40:35.520725Z"
    }
   },
   "outputs": [],
   "source": [
    "import numpy as np\n",
    "import pickle\n",
    "import matplotlib.pyplot as plt\n",
    "\n",
    "# we assumed that 2 dimensional shape"
   ]
  },
  {
   "cell_type": "code",
   "execution_count": 40,
   "outputs": [
    {
     "data": {
      "text/plain": "True"
     },
     "execution_count": 40,
     "metadata": {},
     "output_type": "execute_result"
    }
   ],
   "source": [
    "type(None) == type(None)"
   ],
   "metadata": {
    "collapsed": false,
    "ExecuteTime": {
     "end_time": "2023-10-18T17:40:36.874255Z",
     "start_time": "2023-10-18T17:40:36.866504Z"
    }
   }
  },
  {
   "cell_type": "code",
   "execution_count": 41,
   "id": "b66f391f-ca47-4c91-a08f-32df6615eb24",
   "metadata": {
    "ExecuteTime": {
     "end_time": "2023-10-18T17:40:37.095744Z",
     "start_time": "2023-10-18T17:40:37.090646Z"
    }
   },
   "outputs": [],
   "source": [
    "# variable holder \n",
    "class Variable():\n",
    "\n",
    "    def __init__(self,inputShapes,data = None,requires_grad = True,step_size = 1):\n",
    "        # keep the step size to be scalar\n",
    "        self.shape = inputShapes\n",
    "        self.requires_grad = True\n",
    "        self.data = data\n",
    "        if type(self.data) == type(None):\n",
    "            self.value = np.random.rand(*self.shape) # 2d vector\n",
    "        else:\n",
    "            self.value = data\n",
    "        self.step_size = step_size\n",
    "\n",
    "    def forward(self):\n",
    "        return self.value\n",
    "\n",
    "    def backward(self,value):\n",
    "        # print(\"Variable  \" , value.shape)\n",
    "        # print(\"Original \" , self.value.shape)\n",
    "        self.value -= self.step_size * value\n",
    "        pass"
   ]
  },
  {
   "cell_type": "code",
   "execution_count": 42,
   "id": "b347e110-7285-484e-81bd-59a5e24abf1f",
   "metadata": {
    "ExecuteTime": {
     "end_time": "2023-10-18T17:40:37.289186Z",
     "start_time": "2023-10-18T17:40:37.282940Z"
    }
   },
   "outputs": [],
   "source": [
    "class MatrixMul():\n",
    "\n",
    "    def __init__(self):\n",
    "        pass \n",
    "\n",
    "    def __call__(self):\n",
    "        pass \n",
    "\n",
    "    def forward(self,matrixA, matrixB):\n",
    "        # matrixA is of Variable type\n",
    "        # matrixB is of variable type\n",
    "        # self.value is always numpy array in all the classes\n",
    "        self.matrixA = matrixA\n",
    "        self.matrixB = matrixB\n",
    "        # print(\"This is the matrix A : \",matrixA.value.shape)\n",
    "        # print(\"This is the matrix B : \",matrixB.value.shape)\n",
    "        self.value = self.matrixA.value @ self.matrixB.value\n",
    "\n",
    "        return self.value\n",
    "\n",
    "    def backward(self,value):\n",
    "        # value # matrix\n",
    "        # print(\"This is MatrixMul : \" , value.shape)\n",
    "        self.result1 = value @ self.matrixB.value.T # this will be passed to A\n",
    "        self.result2 = self.matrixA.value.T @ value # this will be passed to B\n",
    "        self.matrixA.backward(self.result1)\n",
    "        self.matrixB.backward(self.result2)\n",
    "\n",
    "        # a * b = c\n",
    "        # dl/dc = matrix\n",
    "        # dl/da = dl/dc . dc/da"
   ]
  },
  {
   "cell_type": "code",
   "execution_count": 43,
   "metadata": {
    "collapsed": false,
    "ExecuteTime": {
     "end_time": "2023-10-18T17:40:37.496436Z",
     "start_time": "2023-10-18T17:40:37.491475Z"
    }
   },
   "outputs": [],
   "source": [
    "class ReLU():\n",
    "\n",
    "    def __init__(self):\n",
    "        pass\n",
    "\n",
    "    def forward(self,prevOperation):\n",
    "        # lastOperation  will be the object of matrix mul\n",
    "        self.prevOperation = prevOperation\n",
    "        self.value = np.where(self.prevOperation.value < 0,0,self.prevOperation.value)\n",
    "        # self.value values will be positive\n",
    "        return self.value\n",
    "\n",
    "    def backward(self,value):\n",
    "        # print(\"This is ReLU : \",value.shape)\n",
    "        temp = np.ones(self.value.shape)\n",
    "        temp = np.where(self.value<=0,0,temp)\n",
    "        self.result = temp * value\n",
    "        self.prevOperation.backward(self.result)"
   ]
  },
  {
   "cell_type": "code",
   "execution_count": 44,
   "id": "f611a5e7-5d93-43f5-8e72-4418e347fcde",
   "metadata": {
    "ExecuteTime": {
     "end_time": "2023-10-18T17:40:37.656487Z",
     "start_time": "2023-10-18T17:40:37.651145Z"
    }
   },
   "outputs": [],
   "source": [
    "class RegressionLoss():\n",
    "\n",
    "    def __init__(self):\n",
    "        pass\n",
    "\n",
    "    def forward(self,original,predicted):\n",
    "        self.original = original\n",
    "        self.predicted = predicted\n",
    "        self.value = np.sum((self.original.value-self.predicted.value) ** 2) * 0.5\n",
    "        return self.value\n",
    "\n",
    "    def __call__(self):\n",
    "        pass\n",
    "\n",
    "    def backward(self,value):\n",
    "        ## Each of this functions should call the backward function of it's calle variables.\n",
    "        ## scalar value times\n",
    "        ## [[1]]  1* 1\n",
    "\n",
    "        # print(\"This is the Regression : \", value.shape )\n",
    "        self.dldy = (self.predicted.value - self.original.value) * value\n",
    "        # print(\"this is point\" , self.dldy)\n",
    "        # print(\"This should be of type add \", type(self.predicted))\n",
    "        self.predicted.backward(self.dldy)"
   ]
  },
  {
   "cell_type": "code",
   "execution_count": 45,
   "metadata": {
    "collapsed": false,
    "ExecuteTime": {
     "end_time": "2023-10-18T17:40:37.845115Z",
     "start_time": "2023-10-18T17:40:37.839252Z"
    }
   },
   "outputs": [],
   "source": [
    "class Add():\n",
    "    def __init__(self):\n",
    "        pass\n",
    "\n",
    "    def forward(self, f_input1, f_input2):\n",
    "        self.f_input1 = f_input1\n",
    "        self.f_input2 = f_input2\n",
    "        self.value = f_input1.value + f_input2.value\n",
    "        return self.value\n",
    "\n",
    "    def backward(self, b_grad):\n",
    "        # print(\"This is the Addition : \",b_grad.shape)\n",
    "        self.grad = b_grad * np.ones(self.value.shape)\n",
    "\n",
    "        self.f_input2.backward(self.grad)\n",
    "        self.f_input1.backward(self.grad)\n",
    "\n",
    "        # self.grad = b_grad * 1 #Addition\n",
    "        return self.grad"
   ]
  },
  {
   "cell_type": "code",
   "execution_count": 46,
   "outputs": [],
   "source": [
    "# for bias\n",
    "class Bias(Variable):\n",
    "\n",
    "     def backward(self,value):\n",
    "         self.update = np.sum(value,axis = 0)\n",
    "         self.value -= self.update * self.step_size\n",
    "         pass"
   ],
   "metadata": {
    "collapsed": false,
    "ExecuteTime": {
     "end_time": "2023-10-18T17:40:38.076821Z",
     "start_time": "2023-10-18T17:40:38.070992Z"
    }
   }
  },
  {
   "cell_type": "code",
   "execution_count": 47,
   "id": "8140137b-6438-4265-bda1-d8f0cb792ee7",
   "metadata": {
    "ExecuteTime": {
     "end_time": "2023-10-18T17:40:38.342802Z",
     "start_time": "2023-10-18T17:40:38.336874Z"
    }
   },
   "outputs": [],
   "source": [
    "# optional if needed \n",
    "class Linear():\n",
    "    def __init__(self,weight, bias,activation_function = False):\n",
    "        # weight and bias should be of type Variable\n",
    "        # activation_function True means we are using ReLU\n",
    "        self.weight = weight\n",
    "        self.bias = bias\n",
    "        self.addition = Add()\n",
    "        self.matmul = MatrixMul()\n",
    "        self.activation_function = activation_function\n",
    "        if(self.activation_function):\n",
    "            self.activation = ReLU()\n",
    "\n",
    "    def forward(self,x):\n",
    "        self.input = x\n",
    "        self.value = self.matmul.forward(x,self.weight)\n",
    "        self.value = self.addition.forward(self.matmul,self.bias)\n",
    "        self.finalOperation = self.addition\n",
    "        if(self.activation_function):\n",
    "            self.value = self.activation.forward(self.addition)\n",
    "            self.finalOperation = self.activation\n",
    "        return self.finalOperation\n",
    "\n",
    "    def backward(self,grad):\n",
    "        # print(\"This is linear Linear : \", grad.shape)\n",
    "        if self.activation_function:\n",
    "            self.activation.backward(grad)\n",
    "        else:\n",
    "            self.addition.backward(grad)"
   ]
  },
  {
   "cell_type": "code",
   "execution_count": 47,
   "outputs": [],
   "source": [],
   "metadata": {
    "collapsed": false,
    "ExecuteTime": {
     "end_time": "2023-10-18T17:40:38.676996Z",
     "start_time": "2023-10-18T17:40:38.669839Z"
    }
   }
  },
  {
   "cell_type": "code",
   "execution_count": 48,
   "id": "dc624f03",
   "metadata": {
    "collapsed": false,
    "ExecuteTime": {
     "end_time": "2023-10-18T17:40:39.220861Z",
     "start_time": "2023-10-18T17:40:39.215509Z"
    }
   },
   "outputs": [],
   "source": [
    "def dataloader():\n",
    "    with open('assignment-one-test-parameters.pkl','rb') as f:\n",
    "        data = pickle.load(f)\n",
    "    inputs = data[\"inputs\"]\n",
    "    w1 = data[\"w1\"]\n",
    "    w2 = data[\"w2\"]\n",
    "    w3 = data[\"w3\"]\n",
    "    b1 = data[\"b1\"]\n",
    "    b2 = data[\"b2\"]\n",
    "    b3 = data[\"b3\"]\n",
    "    targets = np.reshape(data[\"targets\"],(data[\"targets\"].shape[0],1))\n",
    "    params = {\n",
    "        \"w1\" : w1.T,\n",
    "        \"w2\" : w2.T,\n",
    "        \"w3\" : w3.T,\n",
    "        \"b1\" : np.reshape(b1,(1,b1.shape[0])),\n",
    "        \"b2\" : np.reshape(b2,(1,b2.shape[0])),\n",
    "        \"b3\" : np.reshape(b3,(1,b3.shape[0])),\n",
    "    }\n",
    "    trainset = (inputs, targets)\n",
    "\n",
    "    return trainset, params\n"
   ]
  },
  {
   "cell_type": "code",
   "execution_count": 49,
   "outputs": [],
   "source": [
    "trainset,params  = dataloader()"
   ],
   "metadata": {
    "collapsed": false,
    "ExecuteTime": {
     "end_time": "2023-10-18T17:40:39.782968Z",
     "start_time": "2023-10-18T17:40:39.776789Z"
    }
   }
  },
  {
   "cell_type": "code",
   "execution_count": 50,
   "outputs": [
    {
     "data": {
      "text/plain": "(200, 2)"
     },
     "execution_count": 50,
     "metadata": {},
     "output_type": "execute_result"
    }
   ],
   "source": [
    "trainset[0].shape"
   ],
   "metadata": {
    "collapsed": false,
    "ExecuteTime": {
     "end_time": "2023-10-18T17:40:40.520089Z",
     "start_time": "2023-10-18T17:40:40.513834Z"
    }
   }
  },
  {
   "cell_type": "code",
   "execution_count": 51,
   "outputs": [],
   "source": [
    "step_size = 0.0001\n",
    "w1 = Variable(params[\"w1\"].shape,params[\"w1\"],step_size=step_size)\n",
    "w2 = Variable(params[\"w2\"].shape,params[\"w2\"],step_size=step_size)\n",
    "w3 = Variable(params[\"w3\"].shape,params[\"w3\"],step_size=step_size)\n",
    "b1 = Bias(params[\"b1\"].shape,params[\"b1\"],step_size=step_size)\n",
    "b2 = Bias(params[\"b2\"].shape,params[\"b2\"],step_size=step_size)\n",
    "b3 = Bias(params[\"b3\"].shape,params[\"b3\"],step_size=step_size)"
   ],
   "metadata": {
    "collapsed": false,
    "ExecuteTime": {
     "end_time": "2023-10-18T17:40:41.277173Z",
     "start_time": "2023-10-18T17:40:41.271720Z"
    }
   }
  },
  {
   "cell_type": "code",
   "execution_count": 52,
   "outputs": [
    {
     "name": "stdout",
     "output_type": "stream",
     "text": [
      "w1 shape :  (2, 10)\n",
      "w2 shape :  (10, 10)\n",
      "w3 shape :  (10, 1)\n"
     ]
    }
   ],
   "source": [
    "print(\"w1 shape : \",w1.value.shape)\n",
    "print(\"w2 shape : \",w2.value.shape)\n",
    "print(\"w3 shape : \",w3.value.shape)"
   ],
   "metadata": {
    "collapsed": false,
    "ExecuteTime": {
     "end_time": "2023-10-18T17:40:42.466094Z",
     "start_time": "2023-10-18T17:40:42.457700Z"
    }
   }
  },
  {
   "cell_type": "code",
   "execution_count": 53,
   "outputs": [
    {
     "data": {
      "text/plain": "(2, 10)"
     },
     "execution_count": 53,
     "metadata": {},
     "output_type": "execute_result"
    }
   ],
   "source": [
    "w1.shape"
   ],
   "metadata": {
    "collapsed": false,
    "ExecuteTime": {
     "end_time": "2023-10-18T17:40:43.558365Z",
     "start_time": "2023-10-18T17:40:43.551546Z"
    }
   }
  },
  {
   "cell_type": "code",
   "execution_count": 54,
   "outputs": [
    {
     "data": {
      "text/plain": "(1, 10)"
     },
     "execution_count": 54,
     "metadata": {},
     "output_type": "execute_result"
    }
   ],
   "source": [
    "b1.shape"
   ],
   "metadata": {
    "collapsed": false,
    "ExecuteTime": {
     "end_time": "2023-10-18T17:40:44.260807Z",
     "start_time": "2023-10-18T17:40:44.255915Z"
    }
   }
  },
  {
   "cell_type": "code",
   "execution_count": 55,
   "outputs": [
    {
     "data": {
      "text/plain": "107.60015998278625"
     },
     "execution_count": 55,
     "metadata": {},
     "output_type": "execute_result"
    }
   ],
   "source": [
    "## Linear layers\n",
    "Linear1 = Linear(w1,b1,True)\n",
    "Linear2 = Linear(w2,b2,True)\n",
    "Linear3 = Linear(w3,b3,False)\n",
    "x = Variable(trainset[0].shape,trainset[0])\n",
    "\n",
    "y = Linear1.forward(x)\n",
    "y = Linear2.forward(y)\n",
    "y = Linear3.forward(y)\n",
    "loss = RegressionLoss()\n",
    "y_true = Variable(trainset[1].shape,trainset[1])\n",
    "loss.forward(y_true,y)"
   ],
   "metadata": {
    "collapsed": false,
    "ExecuteTime": {
     "end_time": "2023-10-18T17:40:46.109216Z",
     "start_time": "2023-10-18T17:40:46.090279Z"
    }
   }
  },
  {
   "cell_type": "code",
   "execution_count": 60,
   "outputs": [],
   "source": [
    "# training loop\n",
    "n_epochs = 100\n",
    "x = Variable(trainset[0].shape,trainset[0])\n",
    "y_true = Variable(trainset[1].shape,trainset[1])\n",
    "\n",
    "# Initialize the netword\n",
    "Linear1 = Linear(w1,b1,True)\n",
    "Linear2 = Linear(w2,b2,True)\n",
    "Linear3 = Linear(w3,b3,False)\n",
    "loss = RegressionLoss()\n",
    "\n",
    "# bookeeping the losses\n",
    "losses = []\n",
    "\n",
    "\n",
    "# run through each of the epochs\n",
    "for _ in range(n_epochs):\n",
    "\n",
    "    # forward pass\n",
    "    y = Linear1.forward(x)\n",
    "    y = Linear2.forward(y)\n",
    "    y = Linear3.forward(y)\n",
    "\n",
    "    loss_value = loss.forward(y_true,y)\n",
    "\n",
    "    losses.append(loss_value)\n",
    "\n",
    "    # backward pass\n",
    "    loss.backward(np.array([[1]]))"
   ],
   "metadata": {
    "collapsed": false,
    "ExecuteTime": {
     "end_time": "2023-10-18T17:42:18.434579Z",
     "start_time": "2023-10-18T17:42:18.417432Z"
    }
   }
  },
  {
   "cell_type": "code",
   "execution_count": 61,
   "outputs": [
    {
     "data": {
      "text/plain": "[77.74008370140871,\n 74.58429526783142,\n 71.52559894517609,\n 68.17022604624444,\n 64.64554170394703,\n 61.16667733477844,\n 57.73419869895344,\n 54.290811294288126,\n 50.76773756960145,\n 47.19429939256667,\n 43.56068810552536,\n 39.94596562940679,\n 36.474680377708445,\n 33.16029893664248,\n 30.068185436281613,\n 27.23431276582088,\n 24.716449772182557,\n 22.5228284927709,\n 20.638515390395483,\n 19.03852976090063,\n 17.683187617817076,\n 16.53030247136304,\n 15.529193151510281,\n 14.660907824041155,\n 13.892751906847527,\n 13.200319031679822,\n 12.562874772631787,\n 11.966874193524525,\n 11.39951087255865,\n 10.855484009413777,\n 10.33186976986773,\n 9.827563387981407,\n 9.343834389601726,\n 8.875924123408247,\n 8.416992413508872,\n 7.972989595709398,\n 7.547223116034578,\n 7.141487405974916,\n 6.747161885333977,\n 6.364797390644458,\n 5.997371522691388,\n 5.640535846948373,\n 5.300348652906264,\n 4.968454298901275,\n 4.652999207123871,\n 4.350282425817659,\n 4.058648627704809,\n 3.78389821594103,\n 3.515571948662885,\n 3.2621155000882487,\n 3.0222162607918412,\n 2.793846600700716,\n 2.577784785632959,\n 2.372095603971621,\n 2.17820177489273,\n 1.9974254577615271,\n 1.8295617897005072,\n 1.6699203300320558,\n 1.5245090701623774,\n 1.3892330105026893,\n 1.2625372313529009,\n 1.1472287852008984,\n 1.0405977986287174,\n 0.9436645859864923,\n 0.8532373791069464,\n 0.771279399975403,\n 0.6968419787513985,\n 0.6297424642713318,\n 0.567563228564832,\n 0.511779065213023,\n 0.46146603575041634,\n 0.41627884713365826,\n 0.3746786829924477,\n 0.33747382552093813,\n 0.30438432173485613,\n 0.2744468196352272,\n 0.24761475610533762,\n 0.22357175058880088,\n 0.20208257101859978,\n 0.18249671276310325,\n 0.16514018148234036,\n 0.14957930208993597,\n 0.13570872285972638,\n 0.12308569055083851,\n 0.11119704744506964,\n 0.10066376793309469,\n 0.09123323085642328,\n 0.08285089653314745,\n 0.07509830063016693,\n 0.06824727196336898,\n 0.061822634851751754,\n 0.05621316031244935,\n 0.05118219375667159,\n 0.046748286280358944,\n 0.042788043155683686,\n 0.039246828221464594,\n 0.03603407441776611,\n 0.03312575489072133,\n 0.030514161307244794,\n 0.028118540556331707]"
     },
     "execution_count": 61,
     "metadata": {},
     "output_type": "execute_result"
    }
   ],
   "source": [
    "losses"
   ],
   "metadata": {
    "collapsed": false,
    "ExecuteTime": {
     "end_time": "2023-10-18T17:42:19.558931Z",
     "start_time": "2023-10-18T17:42:19.555381Z"
    }
   }
  },
  {
   "cell_type": "code",
   "execution_count": 62,
   "outputs": [
    {
     "data": {
      "text/plain": "[<matplotlib.lines.Line2D at 0x12f8ce050>]"
     },
     "execution_count": 62,
     "metadata": {},
     "output_type": "execute_result"
    },
    {
     "data": {
      "text/plain": "<Figure size 640x480 with 1 Axes>",
      "image/png": "[encoded data removed]"
     },
     "metadata": {},
     "output_type": "display_data"
    }
   ],
   "source": [
    "plt.plot(np.arange(len(losses)),losses)"
   ],
   "metadata": {
    "collapsed": false,
    "ExecuteTime": {
     "end_time": "2023-10-18T17:42:22.430420Z",
     "start_time": "2023-10-18T17:42:22.350727Z"
    }
   }
  },
  {
   "cell_type": "code",
   "execution_count": null,
   "outputs": [],
   "source": [],
   "metadata": {
    "collapsed": false
   }
  },
  {
   "cell_type": "code",
   "execution_count": 37,
   "outputs": [
    {
     "data": {
      "text/plain": "(200, 1)"
     },
     "execution_count": 37,
     "metadata": {},
     "output_type": "execute_result"
    }
   ],
   "source": [
    "y.value.shape"
   ],
   "metadata": {
    "collapsed": false,
    "ExecuteTime": {
     "end_time": "2023-10-18T17:28:06.149603Z",
     "start_time": "2023-10-18T17:28:06.146156Z"
    }
   }
  },
  {
   "cell_type": "code",
   "execution_count": 38,
   "outputs": [],
   "source": [
    "loss.backward(np.array([[1]]))\n",
    "# here the backward pass the shape is (200,1)\n",
    "# I have just one bias term\n",
    "# during the backward pass what will be the shape\n",
    "#"
   ],
   "metadata": {
    "collapsed": false,
    "ExecuteTime": {
     "end_time": "2023-10-18T17:28:07.893993Z",
     "start_time": "2023-10-18T17:28:07.889852Z"
    }
   }
  },
  {
   "cell_type": "code",
   "execution_count": 58,
   "metadata": {
    "ExecuteTime": {
     "end_time": "2023-10-15T20:16:49.535298Z",
     "start_time": "2023-10-15T20:16:49.532670Z"
    },
    "collapsed": false
   },
   "outputs": [
    {
     "name": "stdout",
     "output_type": "stream",
     "text": [
      "Reached till Regression loss  [[1]]\n",
      "this is point [[ 0.5119473 ]\n",
      " [ 0.25303018]\n",
      " [-0.15150328]\n",
      " [ 0.41348196]\n",
      " [ 0.2878462 ]\n",
      " [-0.24015475]\n",
      " [ 0.1195707 ]\n",
      " [ 0.20373379]\n",
      " [ 0.34159231]\n",
      " [ 0.55075722]]\n",
      "First Gradient  (10, 2)\n",
      "First Gradient  (2, 1)\n",
      "[[ 0.5119473 ]\n",
      " [ 0.25303018]\n",
      " [-0.15150328]\n",
      " [ 0.41348196]\n",
      " [ 0.2878462 ]\n",
      " [-0.24015475]\n",
      " [ 0.1195707 ]\n",
      " [ 0.20373379]\n",
      " [ 0.34159231]\n",
      " [ 0.55075722]]\n"
     ]
    }
   ],
   "source": [
    "# Initializing variables\n",
    "A = Variable((10,2)) # assuming here that\n",
    "# here 10 are the number of examples and 2 are the features\n",
    "w1 = Variable((2,1)) # the first layer is assumed to be creating the neurons of 5 in size\n",
    "\n",
    "# Matrix multiplication\n",
    "h1 = MatrixMul()\n",
    "res = h1.forward(A,w1) # 10,1\n",
    "\n",
    "# Computing the ReLU\n",
    "o1 = ReLU() # 10,1\n",
    "o1.forward(h1)\n",
    "\n",
    "# Computing the loss\n",
    "loss = RegressionLoss()\n",
    "y = Variable((10,1))\n",
    "loss.forward(y,o1)\n",
    "\n",
    "# print(loss.value)\n",
    "\n",
    "loss.backward(np.array([[1]]))\n",
    "\n",
    "\n"
   ]
  },
  {
   "cell_type": "code",
   "execution_count": null,
   "id": "46e50d31",
   "metadata": {},
   "outputs": [],
   "source": [
    "def relu(x):\n",
    "    return np.maximum(0, x)\n",
    "\n",
    "def relu_d(x):\n",
    "    return (x > 0).astype(float)"
   ]
  },
  {
   "cell_type": "code",
   "execution_count": null,
   "id": "87de6a80-8048-41d7-ba0d-e62ac57d347f",
   "metadata": {},
   "outputs": [],
   "source": [
    "### Goal \n",
    "# feel free to change the structure as you the need be\n",
    "# This are just my initial thoughts \n",
    "# A = varialbe(n,m)\n",
    "# w1 = variable(n,m)\n",
    "# h1 = Matmul(A,w1)\n",
    "# o1 = ReLu(h1)\n",
    "# w2 = variable(n,m)\n",
    "# h2 = Matmul(o1,w2)\n",
    "# w3 = variable(n,m)\n",
    "# loss = RegLoss(Matmul(h2,w3))\n",
    "# loss.backward()"
   ]
  }
 ],
 "metadata": {
  "kernelspec": {
   "display_name": "Python 3 (ipykernel)",
   "language": "python",
   "name": "python3"
  },
  "language_info": {
   "codemirror_mode": {
    "name": "ipython",
    "version": 3
   },
   "file_extension": ".py",
   "mimetype": "text/x-python",
   "name": "python",
   "nbconvert_exporter": "python",
   "pygments_lexer": "ipython3",
   "version": "3.10.13"
  }
 },
 "nbformat": 4,
 "nbformat_minor": 5
}
