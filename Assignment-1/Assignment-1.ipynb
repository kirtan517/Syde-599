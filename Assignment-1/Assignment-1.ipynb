{
 "cells": [
  {
   "cell_type": "code",
   "execution_count": 1,
   "id": "1028ccbe-71f0-440e-ae3d-a225c76aafcd",
   "metadata": {
    "ExecuteTime": {
     "end_time": "2023-10-15T18:47:02.687749Z",
     "start_time": "2023-10-15T18:47:02.561254Z"
    }
   },
   "outputs": [],
   "source": [
    "import numpy as np\n",
    "\n",
    "\n",
    "# we assumed that 2 dimensional shape"
   ]
  },
  {
   "cell_type": "code",
   "execution_count": 53,
   "id": "b66f391f-ca47-4c91-a08f-32df6615eb24",
   "metadata": {
    "ExecuteTime": {
     "end_time": "2023-10-15T20:16:45.418108Z",
     "start_time": "2023-10-15T20:16:45.410773Z"
    }
   },
   "outputs": [],
   "source": [
    "# variable holder \n",
    "class Variable():\n",
    "\n",
    "    def __init__(self,inputShapes,requires_grad = True ):\n",
    "        self.shape = inputShapes\n",
    "        self.requires_grad = True\n",
    "        self.value = np.random.rand(*self.shape) # 2d vector\n",
    "\n",
    "    def forward(self):\n",
    "        return self.value\n",
    "\n",
    "    def backward(self,value):\n",
    "        print(\"First Gradient \" , value.shape)\n",
    "        self.value -= value\n",
    "        pass"
   ]
  },
  {
   "cell_type": "code",
   "execution_count": 54,
   "id": "b347e110-7285-484e-81bd-59a5e24abf1f",
   "metadata": {
    "ExecuteTime": {
     "end_time": "2023-10-15T20:16:46.908116Z",
     "start_time": "2023-10-15T20:16:46.906605Z"
    }
   },
   "outputs": [],
   "source": [
    "class MatrixMul():\n",
    "\n",
    "    def __init__(self):\n",
    "        pass \n",
    "\n",
    "    def __call__(self):\n",
    "        pass \n",
    "\n",
    "    def forward(self,matrixA, matrixB):\n",
    "        # matrixA is of Variable type\n",
    "        # matrixB is of variable type\n",
    "        # self.value is always numpy array in all the classes\n",
    "        self.matrixA = matrixA\n",
    "        self.matrixB = matrixB\n",
    "        self.value = self.matrixA.value @ self.matrixB.value\n",
    "\n",
    "        return self.value\n",
    "\n",
    "    def backward(self,value):\n",
    "        # value # matrix\n",
    "\n",
    "        self.result1 = value @ self.matrixB.value.T # this will be passed to A\n",
    "        self.result2 = self.matrixA.value.T @ value # this will be passed to B\n",
    "        self.matrixA.backward(self.result1)\n",
    "        self.matrixB.backward(self.result2)\n",
    "        print(value)\n",
    "        # a * b = c\n",
    "        # dl/dc = matrix\n",
    "        # dl/da = dl/dc . dc/da"
   ]
  },
  {
   "cell_type": "code",
   "execution_count": 55,
   "outputs": [],
   "source": [
    "class ReLU():\n",
    "\n",
    "    def __init__(self):\n",
    "        pass\n",
    "\n",
    "    def forward(self,prevOperation):\n",
    "        # lastOperation  will be the object of matrix mul\n",
    "        self.prevOperation = prevOperation\n",
    "        self.value = np.where(self.prevOperation.value < 0,0,self.prevOperation.value)\n",
    "        # self.value values will be positive\n",
    "        return self.value\n",
    "\n",
    "    def backward(self,value):\n",
    "        temp = np.ones(self.value.shape)\n",
    "        temp = np.where(self.value<=0,0,temp)\n",
    "        self.result = temp * value\n",
    "        self.prevOperation.backward(self.result)"
   ],
   "metadata": {
    "collapsed": false,
    "ExecuteTime": {
     "end_time": "2023-10-15T20:16:47.237700Z",
     "start_time": "2023-10-15T20:16:47.235127Z"
    }
   }
  },
  {
   "cell_type": "code",
   "execution_count": 56,
   "id": "f611a5e7-5d93-43f5-8e72-4418e347fcde",
   "metadata": {
    "ExecuteTime": {
     "end_time": "2023-10-15T20:16:47.628930Z",
     "start_time": "2023-10-15T20:16:47.626752Z"
    }
   },
   "outputs": [],
   "source": [
    "class RegressionLoss():\n",
    "\n",
    "    def __init__(self):\n",
    "        pass\n",
    "\n",
    "    def forward(self,original,predicted):\n",
    "        self.original = original\n",
    "        self.predicted = predicted\n",
    "        self.value = np.sum((self.original.value-self.predicted.value) ** 2) * 0.5\n",
    "        return self.value\n",
    "\n",
    "    def __call__(self):\n",
    "        pass\n",
    "\n",
    "    def backward(self,value):\n",
    "        ## Each of this functions should call the backward function of it's calle variables.\n",
    "        ## scalar value times\n",
    "        ## [[1]]  1* 1\n",
    "        print(\"Reached till Regression loss \", value )\n",
    "        self.dldy = (self.predicted.value - self.original.value) * value\n",
    "        print(\"this is point\" , self.dldy)\n",
    "        self.predicted.backward(self.dldy)"
   ]
  },
  {
   "cell_type": "code",
   "execution_count": 57,
   "id": "8140137b-6438-4265-bda1-d8f0cb792ee7",
   "metadata": {
    "ExecuteTime": {
     "end_time": "2023-10-15T20:16:49.004915Z",
     "start_time": "2023-10-15T20:16:49.002565Z"
    }
   },
   "outputs": [],
   "source": [
    "# optional if needed \n",
    "class Linear():\n",
    "    pass"
   ]
  },
  {
   "cell_type": "code",
   "execution_count": null,
   "outputs": [],
   "source": [
    "class Bias:\n",
    "    pass\n",
    "\n",
    "class Addition:\n",
    "    pass"
   ],
   "metadata": {
    "collapsed": false
   }
  },
  {
   "cell_type": "code",
   "execution_count": null,
   "outputs": [],
   "source": [],
   "metadata": {
    "collapsed": false
   }
  },
  {
   "cell_type": "code",
   "execution_count": 58,
   "outputs": [
    {
     "name": "stdout",
     "output_type": "stream",
     "text": [
      "Reached till Regression loss  [[1]]\n",
      "this is point [[ 0.5119473 ]\n",
      " [ 0.25303018]\n",
      " [-0.15150328]\n",
      " [ 0.41348196]\n",
      " [ 0.2878462 ]\n",
      " [-0.24015475]\n",
      " [ 0.1195707 ]\n",
      " [ 0.20373379]\n",
      " [ 0.34159231]\n",
      " [ 0.55075722]]\n",
      "First Gradient  (10, 2)\n",
      "First Gradient  (2, 1)\n",
      "[[ 0.5119473 ]\n",
      " [ 0.25303018]\n",
      " [-0.15150328]\n",
      " [ 0.41348196]\n",
      " [ 0.2878462 ]\n",
      " [-0.24015475]\n",
      " [ 0.1195707 ]\n",
      " [ 0.20373379]\n",
      " [ 0.34159231]\n",
      " [ 0.55075722]]\n"
     ]
    }
   ],
   "source": [
    "# Initializing variables\n",
    "A = Variable((10,2)) # assuming here that\n",
    "# here 10 are the number of examples and 2 are the features\n",
    "w1 = Variable((2,1)) # the first layer is assumed to be creating the neurons of 5 in size\n",
    "\n",
    "# Matrix multiplication\n",
    "h1 = MatrixMul()\n",
    "h1.forward(A,w1) # 10,1\n",
    "\n",
    "# Computing the ReLU\n",
    "o1 = ReLU() # 10,1\n",
    "o1.forward(h1)\n",
    "\n",
    "# Computing the loss\n",
    "loss = RegressionLoss()\n",
    "y = Variable((10,1))\n",
    "loss.forward(y,o1)\n",
    "\n",
    "# print(loss.value)\n",
    "\n",
    "loss.backward(np.array([[1]]))\n",
    "\n",
    "\n"
   ],
   "metadata": {
    "collapsed": false,
    "ExecuteTime": {
     "end_time": "2023-10-15T20:16:49.535298Z",
     "start_time": "2023-10-15T20:16:49.532670Z"
    }
   }
  },
  {
   "cell_type": "code",
   "execution_count": null,
   "id": "87de6a80-8048-41d7-ba0d-e62ac57d347f",
   "metadata": {},
   "outputs": [],
   "source": [
    "### Goal \n",
    "# feel free to change the structure as you the need be\n",
    "# This are just my initial thoughts \n",
    "# A = varialbe(n,m)\n",
    "# w1 = variable(n,m)\n",
    "# h1 = Matmul(A,w1)\n",
    "# o1 = ReLu(h1)\n",
    "# w2 = variable(n,m)\n",
    "# h2 = Matmul(o1,w2)\n",
    "# w3 = variable(n,m)\n",
    "# loss = RegLoss(Matmul(h2,w3))\n",
    "# loss.backward()"
   ]
  }
 ],
 "metadata": {
  "kernelspec": {
   "display_name": "Python 3 (ipykernel)",
   "language": "python",
   "name": "python3"
  },
  "language_info": {
   "codemirror_mode": {
    "name": "ipython",
    "version": 3
   },
   "file_extension": ".py",
   "mimetype": "text/x-python",
   "name": "python",
   "nbconvert_exporter": "python",
   "pygments_lexer": "ipython3",
   "version": "3.10.13"
  }
 },
 "nbformat": 4,
 "nbformat_minor": 5
}
