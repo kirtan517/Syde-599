{
 "cells": [
  {
   "cell_type": "code",
   "execution_count": 456,
   "id": "1028ccbe-71f0-440e-ae3d-a225c76aafcd",
   "metadata": {
    "ExecuteTime": {
     "end_time": "2023-10-18T19:38:19.991052Z",
     "start_time": "2023-10-18T19:38:19.985527Z"
    }
   },
   "outputs": [],
   "source": [
    "import numpy as np\n",
    "import pickle\n",
    "import matplotlib.pyplot as plt\n",
    "\n",
    "# we assumed that 2 dimensional shape"
   ]
  },
  {
   "cell_type": "code",
   "execution_count": 457,
   "metadata": {
    "collapsed": false,
    "ExecuteTime": {
     "end_time": "2023-10-18T19:38:20.153888Z",
     "start_time": "2023-10-18T19:38:20.148579Z"
    }
   },
   "outputs": [
    {
     "data": {
      "text/plain": "True"
     },
     "execution_count": 457,
     "metadata": {},
     "output_type": "execute_result"
    }
   ],
   "source": [
    "type(None) == type(None)"
   ]
  },
  {
   "cell_type": "code",
   "execution_count": 458,
   "id": "b66f391f-ca47-4c91-a08f-32df6615eb24",
   "metadata": {
    "ExecuteTime": {
     "end_time": "2023-10-18T19:38:20.307007Z",
     "start_time": "2023-10-18T19:38:20.300704Z"
    }
   },
   "outputs": [],
   "source": [
    "# variable holder \n",
    "class Variable():\n",
    "    def __init__(self,inputShapes,data = None,requires_grad = True,step_size = 1):\n",
    "        # keep the step size to be scalar\n",
    "        self.shape = inputShapes\n",
    "        self.requires_grad = True\n",
    "        self.data = data.copy()\n",
    "        if type(self.data) == type(None):\n",
    "            self.value = np.random.rand(*self.shape) # 2d vector\n",
    "        else:\n",
    "            self.value = data\n",
    "        self.step_size = step_size\n",
    "\n",
    "    def forward(self):\n",
    "        return self.value\n",
    "\n",
    "    def backward(self,value):\n",
    "        # print(\"Variable  \" , value.shape)\n",
    "        # print(\"Original \" , self.value.shape)\n",
    "        if(self.requires_grad):\n",
    "            self.value -= self.step_size * value"
   ]
  },
  {
   "cell_type": "code",
   "execution_count": 459,
   "id": "b347e110-7285-484e-81bd-59a5e24abf1f",
   "metadata": {
    "ExecuteTime": {
     "end_time": "2023-10-18T19:38:20.429902Z",
     "start_time": "2023-10-18T19:38:20.424137Z"
    }
   },
   "outputs": [],
   "source": [
    "class MatrixMul():\n",
    "\n",
    "    def __init__(self):\n",
    "        pass \n",
    "\n",
    "    def __call__(self):\n",
    "        pass \n",
    "\n",
    "    def forward(self,matrixA, matrixB):\n",
    "        # matrixA is of Variable type\n",
    "        # matrixB is of variable type\n",
    "        # self.value is always numpy array in all the classes\n",
    "        self.matrixA = matrixA\n",
    "        self.matrixB = matrixB\n",
    "        # print(\"This is the matrix A : \",matrixA.value.shape)\n",
    "        # print(\"This is the matrix B : \",matrixB.value.shape)\n",
    "        self.value = self.matrixA.value @ self.matrixB.value\n",
    "\n",
    "        return self.value\n",
    "\n",
    "    def backward(self,value):\n",
    "        # value # matrix\n",
    "        # print(\"This is MatrixMul : \" , value.shape)\n",
    "        self.result1 = value @ self.matrixB.value.T # this will be passed to A\n",
    "        self.result2 = self.matrixA.value.T @ value # this will be passed to B\n",
    "        self.matrixA.backward(self.result1)\n",
    "        self.matrixB.backward(self.result2)\n",
    "\n",
    "        # a * b = c\n",
    "        # dl/dc = matrix\n",
    "        # dl/da = dl/dc . dc/da"
   ]
  },
  {
   "cell_type": "code",
   "execution_count": 460,
   "metadata": {
    "collapsed": false,
    "ExecuteTime": {
     "end_time": "2023-10-18T19:38:20.564856Z",
     "start_time": "2023-10-18T19:38:20.556605Z"
    }
   },
   "outputs": [],
   "source": [
    "class ReLU():\n",
    "\n",
    "    def __init__(self):\n",
    "        pass\n",
    "\n",
    "    def forward(self,prevOperation):\n",
    "        # lastOperation  will be the object of matrix mul\n",
    "        self.prevOperation = prevOperation\n",
    "        self.value = np.where(self.prevOperation.value < 0,0,self.prevOperation.value)\n",
    "        # self.value values will be positive\n",
    "        return self.value\n",
    "\n",
    "    def backward(self,value):\n",
    "        # print(\"This is ReLU : \",value.shape)\n",
    "        temp = np.ones(self.value.shape)\n",
    "        temp = np.where(self.value<=0,0,temp)\n",
    "        self.result = temp * value\n",
    "        self.prevOperation.backward(self.result)"
   ]
  },
  {
   "cell_type": "code",
   "execution_count": 461,
   "id": "f611a5e7-5d93-43f5-8e72-4418e347fcde",
   "metadata": {
    "ExecuteTime": {
     "end_time": "2023-10-18T19:38:20.874528Z",
     "start_time": "2023-10-18T19:38:20.867267Z"
    }
   },
   "outputs": [],
   "source": [
    "class RegressionLoss():\n",
    "\n",
    "    def __init__(self):\n",
    "        pass\n",
    "\n",
    "    def forward(self,original,predicted):\n",
    "        self.original = original\n",
    "        self.predicted = predicted\n",
    "        self.value = np.sum((self.original.value-self.predicted.value) ** 2)\n",
    "        return self.value\n",
    "\n",
    "    def __call__(self):\n",
    "        pass\n",
    "\n",
    "    def backward(self,value):\n",
    "        ## Each of this functions should call the backward function of it's calle variables.\n",
    "        ## scalar value times\n",
    "        ## [[1]]  1* 1\n",
    "\n",
    "        # print(\"This is the Regression : \", value.shape )\n",
    "        self.dldy = (self.predicted.value - self.original.value) * value\n",
    "        # print(\"this is point\" , self.dldy)\n",
    "        # print(\"This should be of type add \", type(self.predicted))\n",
    "        self.predicted.backward(self.dldy)"
   ]
  },
  {
   "cell_type": "code",
   "execution_count": 462,
   "metadata": {
    "collapsed": false,
    "ExecuteTime": {
     "end_time": "2023-10-18T19:38:28.246841Z",
     "start_time": "2023-10-18T19:38:28.236974Z"
    }
   },
   "outputs": [],
   "source": [
    "class BinaryLoss():\n",
    "    def __init__(self):\n",
    "        pass\n",
    "\n",
    "\n",
    "    def sigmoidFunciton(self,x):\n",
    "        return np.reciprocal(np.exp(x * -1))\n",
    "\n",
    "    def backwardSigmoidFunction(self,value):\n",
    "        #TODO\n",
    "        pass\n",
    "\n",
    "    def forward(self,original,predicted):\n",
    "        self.original = original\n",
    "        self.predicted = predicted\n",
    "        self.logits =  self.sigmoidFunciton(self.predicted)\n",
    "        #TODO: Compute the binary loss\n",
    "        self.value = np.sum(self.original * np.log(self.logits) * -1 + -1 * np.log(1- self.logits) * (1-self.original))\n",
    "        print(self.logits)\n",
    "        print(self.value)\n",
    "        return self.value\n",
    "\n",
    "    def __call__(self):\n",
    "        pass\n",
    "\n",
    "    def backward(self,value):\n",
    "        ## Each of this functions should call the backward function of it's calls variables.\n",
    "        ## scalar value times\n",
    "        ## [[1]]  1* 1\n",
    "        #TODO\n",
    "\n",
    "        pass\n"
   ]
  },
  {
   "cell_type": "code",
   "execution_count": 463,
   "metadata": {
    "collapsed": false,
    "ExecuteTime": {
     "end_time": "2023-10-18T19:38:28.623124Z",
     "start_time": "2023-10-18T19:38:28.617215Z"
    }
   },
   "outputs": [],
   "source": [
    "class Add():\n",
    "    def __init__(self):\n",
    "        pass\n",
    "\n",
    "    def forward(self, f_input1, f_input2):\n",
    "        self.f_input1 = f_input1\n",
    "        self.f_input2 = f_input2\n",
    "        self.value = f_input1.value + f_input2.value\n",
    "        return self.value\n",
    "\n",
    "    def backward(self, b_grad):\n",
    "        # print(\"This is the Addition : \",b_grad.shape)\n",
    "        self.grad = b_grad * np.ones(self.value.shape)\n",
    "\n",
    "        self.f_input2.backward(self.grad)\n",
    "        self.f_input1.backward(self.grad)\n",
    "\n",
    "        # self.grad = b_grad * 1 #Addition\n",
    "        return self.grad"
   ]
  },
  {
   "cell_type": "code",
   "execution_count": 464,
   "metadata": {
    "collapsed": false,
    "ExecuteTime": {
     "end_time": "2023-10-18T19:38:29.100334Z",
     "start_time": "2023-10-18T19:38:29.093614Z"
    }
   },
   "outputs": [],
   "source": [
    "# for bias\n",
    "class Bias(Variable):\n",
    "\n",
    "     def backward(self,value):\n",
    "         self.update = np.sum(value,axis = 0)\n",
    "         self.value -= self.update * self.step_size"
   ]
  },
  {
   "cell_type": "code",
   "execution_count": 465,
   "id": "8140137b-6438-4265-bda1-d8f0cb792ee7",
   "metadata": {
    "ExecuteTime": {
     "end_time": "2023-10-18T19:38:29.460278Z",
     "start_time": "2023-10-18T19:38:29.452769Z"
    }
   },
   "outputs": [],
   "source": [
    "# optional if needed \n",
    "class Linear():\n",
    "    def __init__(self,weight, bias,activation_function = False):\n",
    "        # weight and bias should be of type Variable\n",
    "        # activation_function True means we are using ReLU\n",
    "        self.weight = weight\n",
    "        self.bias = bias\n",
    "        self.addition = Add()\n",
    "        self.matmul = MatrixMul()\n",
    "        self.activation_function = activation_function\n",
    "        if(self.activation_function):\n",
    "            self.activation = ReLU()\n",
    "\n",
    "    def forward(self,x):\n",
    "        self.input = x\n",
    "        self.value = self.matmul.forward(x,self.weight)\n",
    "        self.value = self.addition.forward(self.matmul,self.bias)\n",
    "        self.finalOperation = self.addition\n",
    "        if(self.activation_function):\n",
    "            self.value = self.activation.forward(self.addition)\n",
    "            self.finalOperation = self.activation\n",
    "        return self.finalOperation\n",
    "\n",
    "    def backward(self,grad):\n",
    "        # print(\"This is linear Linear : \", grad.shape)\n",
    "        if self.activation_function:\n",
    "            self.activation.backward(grad)\n",
    "        else:\n",
    "            self.addition.backward(grad)"
   ]
  },
  {
   "cell_type": "code",
   "execution_count": 465,
   "metadata": {
    "collapsed": false,
    "ExecuteTime": {
     "end_time": "2023-10-18T19:38:30.518131Z",
     "start_time": "2023-10-18T19:38:30.513605Z"
    }
   },
   "outputs": [],
   "source": []
  },
  {
   "cell_type": "code",
   "execution_count": 480,
   "id": "dc624f03",
   "metadata": {
    "collapsed": false,
    "ExecuteTime": {
     "end_time": "2023-10-18T19:45:12.380719Z",
     "start_time": "2023-10-18T19:45:12.378133Z"
    }
   },
   "outputs": [],
   "source": [
    "def dataloader():\n",
    "    with open('assignment-one-test-parameters.pkl','rb') as f:\n",
    "        data = pickle.load(f)\n",
    "    inputs = data[\"inputs\"]\n",
    "    w1 = data[\"w1\"]\n",
    "    w2 = data[\"w2\"]\n",
    "    w3 = data[\"w3\"]\n",
    "    b1 = data[\"b1\"]\n",
    "    b2 = data[\"b2\"]\n",
    "    b3 = data[\"b3\"]\n",
    "    targets = np.reshape(data[\"targets\"],(data[\"targets\"].shape[0],1))\n",
    "    params = {\n",
    "        \"w1\" : w1.T,\n",
    "        \"w2\" : w2.T,\n",
    "        \"w3\" : w3.T,\n",
    "        \"b1\" : np.reshape(b1,(1,b1.shape[0])),\n",
    "        \"b2\" : np.reshape(b2,(1,b2.shape[0])),\n",
    "        \"b3\" : np.reshape(b3,(1,b3.shape[0])),\n",
    "    }\n",
    "    trainset = (inputs, targets)\n",
    "\n",
    "    return trainset, params\n"
   ]
  },
  {
   "cell_type": "code",
   "execution_count": 481,
   "metadata": {
    "collapsed": false,
    "ExecuteTime": {
     "end_time": "2023-10-18T19:45:12.565894Z",
     "start_time": "2023-10-18T19:45:12.556797Z"
    }
   },
   "outputs": [],
   "source": [
    "trainset,params  = dataloader()"
   ]
  },
  {
   "cell_type": "code",
   "execution_count": 482,
   "metadata": {
    "collapsed": false,
    "ExecuteTime": {
     "end_time": "2023-10-18T19:45:12.725210Z",
     "start_time": "2023-10-18T19:45:12.717476Z"
    }
   },
   "outputs": [
    {
     "data": {
      "text/plain": "(200, 2)"
     },
     "execution_count": 482,
     "metadata": {},
     "output_type": "execute_result"
    }
   ],
   "source": [
    "trainset[0].shape"
   ]
  },
  {
   "cell_type": "code",
   "execution_count": 492,
   "metadata": {
    "collapsed": false,
    "ExecuteTime": {
     "end_time": "2023-10-18T19:49:36.563672Z",
     "start_time": "2023-10-18T19:49:36.562539Z"
    }
   },
   "outputs": [],
   "source": [
    "step_size = 0.001\n",
    "w1 = Variable(params[\"w1\"].shape,data= params[\"w1\"],step_size=step_size)\n",
    "w2 = Variable(params[\"w2\"].shape,data = params[\"w2\"],step_size=step_size)\n",
    "w3 = Variable(params[\"w3\"].shape,data = params[\"w3\"],step_size=step_size)\n",
    "b1 = Bias(params[\"b1\"].shape,data = params[\"b1\"],step_size=step_size)\n",
    "b2 = Bias(params[\"b2\"].shape,data = params[\"b2\"],step_size=step_size)\n",
    "b3 = Bias(params[\"b3\"].shape,data = params[\"b3\"],step_size=step_size)\n",
    "\n",
    "# w1 = Variable(params[\"w1\"].shape,data= None,step_size=step_size)\n",
    "# w2 = Variable(params[\"w2\"].shape,data = None,step_size=step_size)\n",
    "# w3 = Variable(params[\"w3\"].shape,data = None,step_size=step_size)\n",
    "# b1 = Bias(params[\"b1\"].shape,data = None,step_size=step_size)\n",
    "# b2 = Bias(params[\"b2\"].shape,data = None,step_size=step_size)\n",
    "# b3 = Bias(params[\"b3\"].shape,data = None,step_size=step_size)"
   ]
  },
  {
   "cell_type": "code",
   "execution_count": 493,
   "metadata": {
    "collapsed": false,
    "ExecuteTime": {
     "end_time": "2023-10-18T19:49:36.735826Z",
     "start_time": "2023-10-18T19:49:36.729952Z"
    }
   },
   "outputs": [
    {
     "name": "stdout",
     "output_type": "stream",
     "text": [
      "w1 shape :  (2, 10)\n",
      "w2 shape :  (10, 10)\n",
      "w3 shape :  (10, 1)\n"
     ]
    }
   ],
   "source": [
    "print(\"w1 shape : \",w1.value.shape)\n",
    "print(\"w2 shape : \",w2.value.shape)\n",
    "print(\"w3 shape : \",w3.value.shape)"
   ]
  },
  {
   "cell_type": "code",
   "execution_count": 494,
   "metadata": {
    "collapsed": false,
    "ExecuteTime": {
     "end_time": "2023-10-18T19:49:36.898165Z",
     "start_time": "2023-10-18T19:49:36.893239Z"
    }
   },
   "outputs": [
    {
     "data": {
      "text/plain": "(2, 10)"
     },
     "execution_count": 494,
     "metadata": {},
     "output_type": "execute_result"
    }
   ],
   "source": [
    "w1.shape"
   ]
  },
  {
   "cell_type": "code",
   "execution_count": 495,
   "metadata": {
    "collapsed": false,
    "ExecuteTime": {
     "end_time": "2023-10-18T19:49:37.070589Z",
     "start_time": "2023-10-18T19:49:37.064936Z"
    }
   },
   "outputs": [
    {
     "data": {
      "text/plain": "(1, 10)"
     },
     "execution_count": 495,
     "metadata": {},
     "output_type": "execute_result"
    }
   ],
   "source": [
    "b1.shape"
   ]
  },
  {
   "cell_type": "code",
   "execution_count": 496,
   "metadata": {
    "collapsed": false,
    "ExecuteTime": {
     "end_time": "2023-10-18T19:49:37.260691Z",
     "start_time": "2023-10-18T19:49:37.256Z"
    }
   },
   "outputs": [],
   "source": [
    "def get_baches(x,y,batch_size):\n",
    "    # shuffle the dataset\n",
    "    number_of_steps = x.shape[0] // batch_size\n",
    "\n",
    "\n",
    "    #TODO: shuffle the dataset\n",
    "    # pass the dataset\n",
    "    start = 0\n",
    "    end = batch_size\n",
    "    for i in range(number_of_steps):\n",
    "        x_final = Variable(x[start : end].shape,x[start : end],requires_grad=False)\n",
    "        y_final  = Variable(y[start : end].shape,y[start:end], requires_grad=False)\n",
    "        start += batch_size\n",
    "        end += batch_size\n",
    "        yield (x_final,y_final)\n",
    "    if(end > x.shape[0] and start < x.shape[0]):\n",
    "        x_final = Variable(x[start :].shape,x[start:],requires_grad=False)\n",
    "        y_final  = Variable(y[start :].shape,y[start:], requires_grad=False)\n",
    "        yield (x_final,y_final)"
   ]
  },
  {
   "cell_type": "code",
   "execution_count": 497,
   "metadata": {
    "collapsed": false,
    "ExecuteTime": {
     "end_time": "2023-10-18T19:49:37.490148Z",
     "start_time": "2023-10-18T19:49:37.484318Z"
    }
   },
   "outputs": [
    {
     "name": "stdout",
     "output_type": "stream",
     "text": [
      "(32, 2)\n",
      "(32, 2)\n",
      "(32, 2)\n",
      "(32, 2)\n",
      "(32, 2)\n",
      "(32, 2)\n",
      "(8, 2)\n",
      "This is the total :  200\n"
     ]
    }
   ],
   "source": [
    "x = trainset[0]\n",
    "y = trainset[1]\n",
    "total = 0\n",
    "k = 30\n",
    "for x,y in get_baches(x,y,32):\n",
    "    print(x.value.shape)\n",
    "    total += x.value.shape[0]\n",
    "    k-=1\n",
    "    if(k == 0):\n",
    "        break\n",
    "print(\"This is the total : \",total)"
   ]
  },
  {
   "cell_type": "code",
   "execution_count": 498,
   "id": "c74b808a",
   "metadata": {
    "collapsed": false,
    "ExecuteTime": {
     "end_time": "2023-10-18T19:49:37.845960Z",
     "start_time": "2023-10-18T19:49:37.824918Z"
    }
   },
   "outputs": [],
   "source": [
    "# training loop\n",
    "n_epochs = 10\n",
    "batch_size = 10\n",
    "\n",
    "# x = Variable(trainset[0].shape,trainset[0],requires_grad=False)\n",
    "# y_true = Variable(trainset[1].shape,trainset[1],requires_grad=False)\n",
    "\n",
    "# Initialize the netword\n",
    "Linear1 = Linear(w1,b1,True)\n",
    "Linear2 = Linear(w2,b2,True)\n",
    "Linear3 = Linear(w3,b3,False)\n",
    "loss = RegressionLoss()\n",
    "\n",
    "# bookeeping the losses\n",
    "losses = []\n",
    "\n",
    "# run through each of the epochs\n",
    "for _ in range(n_epochs):\n",
    "\n",
    "    for x,y_true in get_baches(trainset[0],trainset[1],batch_size=batch_size):\n",
    "        # forward pass\n",
    "        y = Linear1.forward(x)\n",
    "        y = Linear2.forward(y)\n",
    "        y = Linear3.forward(y)\n",
    "\n",
    "        loss_value = loss.forward(y_true,y)\n",
    "\n",
    "        losses.append(loss_value)\n",
    "\n",
    "        # backward pass\n",
    "        loss.backward(np.array([[1]]))"
   ]
  },
  {
   "cell_type": "code",
   "execution_count": 499,
   "id": "fbd1e69c",
   "metadata": {
    "collapsed": false,
    "ExecuteTime": {
     "end_time": "2023-10-18T19:49:38.992396Z",
     "start_time": "2023-10-18T19:49:38.987610Z"
    }
   },
   "outputs": [
    {
     "data": {
      "text/plain": "[2.9827685399736668,\n 4.5289242925786946,\n 3.6469274398998097,\n 3.9867186063491333,\n 1.924821043628775,\n 3.1814609111483865,\n 5.050421563745324,\n 2.130479777062683,\n 3.678989228639933,\n 3.950861367114333,\n 2.5602704273414574,\n 3.852165497817349,\n 2.032648932260374,\n 5.248280354617673,\n 2.565133765721448,\n 5.098367084509727,\n 5.468881922107826,\n 1.8917914968987408,\n 3.6634429412555387,\n 4.573418654735643,\n 2.8187754437440664,\n 4.3881259266149195,\n 3.410166331906412,\n 3.745556057746482,\n 1.813137099778361,\n 3.0588019834196745,\n 4.768765395606493,\n 2.0514997620572064,\n 3.4855799023431486,\n 3.7168866177408253,\n 2.3436115021398445,\n 3.6454275155838465,\n 1.9124956635899348,\n 5.014838941323233,\n 2.3979367370430515,\n 4.818832263175119,\n 5.046268487174276,\n 1.734767240129562,\n 3.4711639077086036,\n 4.243308984092416,\n 2.5974157575725902,\n 4.199209926269724,\n 3.0970173326942385,\n 3.457278703096567,\n 1.6552186428365818,\n 2.9058787247135687,\n 4.409763169992054,\n 1.9469880028532218,\n 3.2448658939703114,\n 3.4086035441247042,\n 2.0621950516212992,\n 3.373706956551298,\n 1.7459792422738438,\n 4.729494477345493,\n 2.191299306969734,\n 4.459787230516362,\n 4.515981636267093,\n 1.5456167891434278,\n 3.20448212595197,\n 3.8478933261665436,\n 2.3239752868539756,\n 3.9685127410887837,\n 2.704881148231397,\n 3.106644726855313,\n 1.450762550150055,\n 2.70104129986861,\n 3.9649305358935516,\n 1.8045670087696681,\n 2.9427072262480083,\n 3.025558484970218,\n 1.7450165178114272,\n 3.0638089160227446,\n 1.5443616741594695,\n 4.370446114507769,\n 1.925584353172177,\n 4.002613799253041,\n 3.90660519479397,\n 1.3189399186659532,\n 2.8605936416436726,\n 3.408622177363897,\n 1.9986035057841145,\n 3.656988917823555,\n 2.2289316826895695,\n 2.6940604859693353,\n 1.2127813457113208,\n 2.4130947182834204,\n 3.4348403801472585,\n 1.602599252850263,\n 2.5909091044766734,\n 2.563106217991243,\n 1.3789050988123273,\n 2.657834007849788,\n 1.303224057625633,\n 3.851397883036036,\n 1.598084161210123,\n 3.45853491585041,\n 3.219813419792441,\n 1.0528136183749537,\n 2.4510046803244254,\n 2.865714221408587,\n 1.6036477872800852,\n 3.24788861636789,\n 1.7283496662952966,\n 2.207848806441946,\n 0.9147252758704834,\n 2.065456463300597,\n 2.819022223035421,\n 1.3469136030801159,\n 2.197736939480456,\n 2.0418692730207173,\n 0.9794821946282721,\n 2.2417975374363133,\n 1.0367538322050014,\n 3.2985219975277174,\n 1.2438881316773893,\n 2.884384496314717,\n 2.4672244444763622,\n 0.7797617594082884,\n 2.0436760735192445,\n 2.1716091887959337,\n 1.1948334869477113,\n 2.7975109580689157,\n 1.2021036091049908,\n 1.6969656532957038,\n 0.5903831663537575,\n 1.69541699746165,\n 2.169818750949651,\n 1.083030445563236,\n 1.7801299752167645,\n 1.4877287360603486,\n 0.6041806757225276,\n 1.7830190031661617,\n 0.7799204145194815,\n 2.7062235837299475,\n 0.8895724457615497,\n 2.297115356179666,\n 1.7556410869466572,\n 0.5163325762848618,\n 1.6324137235752514,\n 1.49557532965257,\n 0.8082246444588025,\n 2.3422718208696436,\n 0.7415420114398705,\n 1.2013116726990978,\n 0.3357709292633939,\n 1.3332056521013413,\n 1.5554892974729813,\n 0.8371869533518923,\n 1.3694174449391103,\n 1.0196219859513527,\n 0.3156150169006434,\n 1.37021221707847,\n 0.5676123084781854,\n 2.1186442706959756,\n 0.5683875507744879,\n 1.7655440397851216,\n 1.1677341943488437,\n 0.27715398088818005,\n 1.2596214446947016,\n 0.9884573249324969,\n 0.4994363541251846,\n 1.9168871160794885,\n 0.40035196468323636,\n 0.8172479857549731,\n 0.170917962318147,\n 1.0047753290973798,\n 1.0715098825825555,\n 0.6331624092953707,\n 1.020361949304196,\n 0.680759090565343,\n 0.13646496913914988,\n 1.0285697261134308,\n 0.40429451299321584,\n 1.6186587613674797,\n 0.34073998071154815,\n 1.338455380832044,\n 0.7421383598457623,\n 0.12796338996140452,\n 0.937265659744348,\n 0.6400090698260389,\n 0.29182894443648044,\n 1.5112223659491595,\n 0.19699257849226443,\n 0.5637542878218122,\n 0.08561755371072421,\n 0.7409914962389139,\n 0.7382039144806221,\n 0.47238448974366776,\n 0.7311247844465583,\n 0.4632218011129155,\n 0.05229815871627573,\n 0.7523256358857486,\n 0.2818917840927322,\n 1.1862572041436938,\n 0.2042872170121284,\n 0.9950826247358857,\n 0.45612936363903883,\n 0.06331593808739228,\n 0.6695012600542203,\n 0.41588687676555797]"
     },
     "execution_count": 499,
     "metadata": {},
     "output_type": "execute_result"
    }
   ],
   "source": [
    "losses"
   ]
  },
  {
   "cell_type": "code",
   "execution_count": 500,
   "id": "61c89f6f",
   "metadata": {
    "collapsed": false,
    "ExecuteTime": {
     "end_time": "2023-10-18T19:49:40.125376Z",
     "start_time": "2023-10-18T19:49:40.050850Z"
    }
   },
   "outputs": [
    {
     "data": {
      "text/plain": "[<matplotlib.lines.Line2D at 0x1548f7dc0>]"
     },
     "execution_count": 500,
     "metadata": {},
     "output_type": "execute_result"
    },
    {
     "data": {
      "text/plain": "<Figure size 640x480 with 1 Axes>",
      "image/png": "[encoded data removed]"
     },
     "metadata": {},
     "output_type": "display_data"
    }
   ],
   "source": [
    "plt.plot(np.arange(len(losses)),losses)"
   ]
  },
  {
   "cell_type": "code",
   "execution_count": null,
   "metadata": {
    "collapsed": false
   },
   "outputs": [],
   "source": []
  },
  {
   "cell_type": "code",
   "execution_count": 305,
   "metadata": {
    "ExecuteTime": {
     "end_time": "2023-10-18T18:29:04.122550Z",
     "start_time": "2023-10-18T18:29:04.117076Z"
    },
    "collapsed": false
   },
   "outputs": [
    {
     "data": {
      "text/plain": [
       "107.60015998278625"
      ]
     },
     "execution_count": 305,
     "metadata": {},
     "output_type": "execute_result"
    }
   ],
   "source": [
    "## Linear layers\n",
    "# Test Run\n",
    "\n",
    "Linear1 = Linear(w1,b1,True)\n",
    "Linear2 = Linear(w2,b2,True)\n",
    "Linear3 = Linear(w3,b3,False)\n",
    "x = Variable(trainset[0].shape,trainset[0],requires_grad=False)\n",
    "\n",
    "y = Linear1.forward(x)\n",
    "y = Linear2.forward(y)\n",
    "y = Linear3.forward(y)\n",
    "loss = RegressionLoss()\n",
    "y_true = Variable(trainset[1].shape,trainset[1],requires_grad=False)\n",
    "loss.forward(y_true,y)"
   ]
  },
  {
   "cell_type": "code",
   "execution_count": 37,
   "metadata": {
    "ExecuteTime": {
     "end_time": "2023-10-18T17:28:06.149603Z",
     "start_time": "2023-10-18T17:28:06.146156Z"
    },
    "collapsed": false
   },
   "outputs": [
    {
     "data": {
      "text/plain": [
       "(200, 1)"
      ]
     },
     "execution_count": 37,
     "metadata": {},
     "output_type": "execute_result"
    }
   ],
   "source": [
    "y.value.shape"
   ]
  },
  {
   "cell_type": "code",
   "execution_count": 38,
   "metadata": {
    "ExecuteTime": {
     "end_time": "2023-10-18T17:28:07.893993Z",
     "start_time": "2023-10-18T17:28:07.889852Z"
    },
    "collapsed": false
   },
   "outputs": [],
   "source": [
    "loss.backward(np.array([[1]]))\n",
    "# here the backward pass the shape is (200,1)\n",
    "# I have just one bias term\n",
    "# during the backward pass what will be the shape\n",
    "#"
   ]
  },
  {
   "cell_type": "code",
   "execution_count": 58,
   "metadata": {
    "ExecuteTime": {
     "end_time": "2023-10-15T20:16:49.535298Z",
     "start_time": "2023-10-15T20:16:49.532670Z"
    },
    "collapsed": false
   },
   "outputs": [
    {
     "name": "stdout",
     "output_type": "stream",
     "text": [
      "Reached till Regression loss  [[1]]\n",
      "this is point [[ 0.5119473 ]\n",
      " [ 0.25303018]\n",
      " [-0.15150328]\n",
      " [ 0.41348196]\n",
      " [ 0.2878462 ]\n",
      " [-0.24015475]\n",
      " [ 0.1195707 ]\n",
      " [ 0.20373379]\n",
      " [ 0.34159231]\n",
      " [ 0.55075722]]\n",
      "First Gradient  (10, 2)\n",
      "First Gradient  (2, 1)\n",
      "[[ 0.5119473 ]\n",
      " [ 0.25303018]\n",
      " [-0.15150328]\n",
      " [ 0.41348196]\n",
      " [ 0.2878462 ]\n",
      " [-0.24015475]\n",
      " [ 0.1195707 ]\n",
      " [ 0.20373379]\n",
      " [ 0.34159231]\n",
      " [ 0.55075722]]\n"
     ]
    }
   ],
   "source": [
    "# Initializing variables\n",
    "A = Variable((10,2)) # assuming here that\n",
    "# here 10 are the number of examples and 2 are the features\n",
    "w1 = Variable((2,1)) # the first layer is assumed to be creating the neurons of 5 in size\n",
    "\n",
    "# Matrix multiplication\n",
    "h1 = MatrixMul()\n",
    "res = h1.forward(A,w1) # 10,1\n",
    "\n",
    "# Computing the ReLU\n",
    "o1 = ReLU() # 10,1\n",
    "o1.forward(h1)\n",
    "\n",
    "# Computing the loss\n",
    "loss = RegressionLoss()\n",
    "y = Variable((10,1))\n",
    "loss.forward(y,o1)\n",
    "\n",
    "# print(loss.value)\n",
    "\n",
    "loss.backward(np.array([[1]]))\n",
    "\n",
    "\n"
   ]
  },
  {
   "cell_type": "code",
   "execution_count": null,
   "id": "46e50d31",
   "metadata": {},
   "outputs": [],
   "source": [
    "def relu(x):\n",
    "    return np.maximum(0, x)\n",
    "\n",
    "def relu_d(x):\n",
    "    return (x > 0).astype(float)"
   ]
  },
  {
   "cell_type": "code",
   "execution_count": null,
   "id": "87de6a80-8048-41d7-ba0d-e62ac57d347f",
   "metadata": {},
   "outputs": [],
   "source": [
    "### Goal \n",
    "# feel free to change the structure as you the need be\n",
    "# This are just my initial thoughts \n",
    "# A = varialbe(n,m)\n",
    "# w1 = variable(n,m)\n",
    "# h1 = Matmul(A,w1)\n",
    "# o1 = ReLu(h1)\n",
    "# w2 = variable(n,m)\n",
    "# h2 = Matmul(o1,w2)\n",
    "# w3 = variable(n,m)\n",
    "# loss = RegLoss(Matmul(h2,w3))\n",
    "# loss.backward()"
   ]
  }
 ],
 "metadata": {
  "kernelspec": {
   "display_name": "Python 3 (ipykernel)",
   "language": "python",
   "name": "python3"
  },
  "language_info": {
   "codemirror_mode": {
    "name": "ipython",
    "version": 3
   },
   "file_extension": ".py",
   "mimetype": "text/x-python",
   "name": "python",
   "nbconvert_exporter": "python",
   "pygments_lexer": "ipython3",
   "version": "3.10.13"
  }
 },
 "nbformat": 4,
 "nbformat_minor": 5
}
