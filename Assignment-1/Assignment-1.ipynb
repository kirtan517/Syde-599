{
 "cells": [
  {
   "cell_type": "code",
   "execution_count": 128,
   "id": "1028ccbe-71f0-440e-ae3d-a225c76aafcd",
   "metadata": {
    "ExecuteTime": {
     "end_time": "2023-10-19T17:03:24.789125Z",
     "start_time": "2023-10-19T17:03:24.784927Z"
    }
   },
   "outputs": [],
   "source": [
    "import numpy as np\n",
    "import pickle\n",
    "import matplotlib.pyplot as plt\n",
    "\n",
    "# we assumed that 2 dimensional shape"
   ]
  },
  {
   "cell_type": "code",
   "execution_count": 129,
   "outputs": [],
   "source": [
    "# variable holder \n",
    "class Variable():\n",
    "    def __init__(self,inputShapes,data = None,requires_grad = True, name = \"Variable\",store_gradient = False):\n",
    "        # keep the step size to be scalar\n",
    "        self.shape = inputShapes\n",
    "        self.requires_grad = requires_grad\n",
    "        self.data = data.copy()\n",
    "        self.name = name\n",
    "        self.store_gradient = store_gradient\n",
    "        if type(self.data) == type(None):\n",
    "            self.value = np.random.rand(*self.shape) # 2d vector\n",
    "        else:\n",
    "            self.value = data\n",
    "        if self.store_gradient:\n",
    "            self.gradients = []\n",
    "\n",
    "    def forward(self):\n",
    "        return self.value\n",
    "\n",
    "    def backward(self,value,learning_rate):\n",
    "        # print(\"Variable  \" , value.shape)\n",
    "        # print(\"Original \" , self.value.shape)\n",
    "        if(self.requires_grad):\n",
    "            self.value -= learning_rate * value\n",
    "        if(self.store_gradient):\n",
    "            # TODO: confirm if they want the gradients to be stored with learning rate multiplied or not \n",
    "            self.gradients.append(value.tolist())\n",
    "    \n",
    "    def __str__(self):\n",
    "        string = f\"For the Variable {self.name}\"\n",
    "        string += '\\n'\n",
    "        string += self.value.__str__()\n",
    "        return string\n"
   ],
   "metadata": {
    "collapsed": false,
    "ExecuteTime": {
     "end_time": "2023-10-19T17:03:24.952346Z",
     "start_time": "2023-10-19T17:03:24.950278Z"
    }
   },
   "id": "3d0a887d0a213c65"
  },
  {
   "cell_type": "code",
   "execution_count": 130,
   "id": "b347e110-7285-484e-81bd-59a5e24abf1f",
   "metadata": {
    "ExecuteTime": {
     "end_time": "2023-10-19T17:03:25.116558Z",
     "start_time": "2023-10-19T17:03:25.113154Z"
    }
   },
   "outputs": [],
   "source": [
    "class MatrixMul():\n",
    "\n",
    "    def __init__(self):\n",
    "        pass \n",
    "\n",
    "    def __call__(self):\n",
    "        pass \n",
    "\n",
    "    def forward(self,matrixA, matrixB):\n",
    "        # matrixA is of Variable type\n",
    "        # matrixB is of variable type\n",
    "        # self.value is always numpy array in all the classes\n",
    "        self.matrixA = matrixA\n",
    "        self.matrixB = matrixB\n",
    "        # print(\"This is the matrix A : \",matrixA.value.shape)\n",
    "        # print(\"This is the matrix B : \",matrixB.value.shape)\n",
    "        self.value = self.matrixA.value @ self.matrixB.value\n",
    "\n",
    "        return self.value\n",
    "\n",
    "    def backward(self,value,learning_rate):\n",
    "        # value # matrix\n",
    "        # print(\"This is MatrixMul : \" , value.shape)\n",
    "        self.result1 = value @ self.matrixB.value.T # this will be passed to A\n",
    "        self.result2 = self.matrixA.value.T @ value # this will be passed to B\n",
    "        self.matrixA.backward(self.result1, learning_rate)\n",
    "        self.matrixB.backward(self.result2, learning_rate)\n",
    "\n",
    "        # a * b = c\n",
    "        # dl/dc = matrix\n",
    "        # dl/da = dl/dc . dc/da"
   ]
  },
  {
   "cell_type": "code",
   "execution_count": 131,
   "metadata": {
    "collapsed": false,
    "ExecuteTime": {
     "end_time": "2023-10-19T17:03:25.280775Z",
     "start_time": "2023-10-19T17:03:25.276843Z"
    }
   },
   "outputs": [],
   "source": [
    "class ReLU():\n",
    "\n",
    "    def __init__(self):\n",
    "        pass\n",
    "\n",
    "    def forward(self,prevOperation):\n",
    "        # lastOperation  will be the object of matrix mul\n",
    "        self.prevOperation = prevOperation\n",
    "        self.value = np.where(self.prevOperation.value < 0,0,self.prevOperation.value)\n",
    "        # self.value values will be positive\n",
    "        return self.value\n",
    "\n",
    "    def backward(self,value,learning_rate):\n",
    "        # print(\"This is ReLU : \",value.shape)\n",
    "        temp = np.ones(self.value.shape)\n",
    "        temp = np.where(self.value<=0,0,temp)\n",
    "        self.result = temp * value\n",
    "        self.prevOperation.backward(self.result,learning_rate)"
   ],
   "id": "eb31d78dae2a5378"
  },
  {
   "cell_type": "code",
   "execution_count": 132,
   "id": "f611a5e7-5d93-43f5-8e72-4418e347fcde",
   "metadata": {
    "ExecuteTime": {
     "end_time": "2023-10-19T17:03:25.455310Z",
     "start_time": "2023-10-19T17:03:25.451339Z"
    }
   },
   "outputs": [],
   "source": [
    "class RegressionLoss():\n",
    "\n",
    "    def __init__(self):\n",
    "        pass\n",
    "\n",
    "    def forward(self,original,predicted):\n",
    "        self.original = original\n",
    "        self.predicted = predicted\n",
    "        self.value = np.mean((self.original.value-self.predicted.value) ** 2 / 2)\n",
    "        return self.value\n",
    "\n",
    "    def __call__(self):\n",
    "        pass\n",
    "\n",
    "    def backward(self,value,learning_rate):\n",
    "        ## Each of this functions should call the backward function of it's calle variables.\n",
    "        ## scalar value times\n",
    "        ## [[1]]  1* 1\n",
    "\n",
    "        # print(\"This is the Regression : \", value.shape )\n",
    "        self.dldy = (self.predicted.value - self.original.value) * value  / self.original.shape[0]\n",
    "        # print(\"this is point\" , self.dldy)\n",
    "        # print(\"This should be of type add \", type(self.predicted))\n",
    "        self.predicted.backward(self.dldy,learning_rate)"
   ]
  },
  {
   "cell_type": "code",
   "execution_count": 133,
   "metadata": {
    "collapsed": false,
    "ExecuteTime": {
     "end_time": "2023-10-19T17:03:25.591714Z",
     "start_time": "2023-10-19T17:03:25.588385Z"
    }
   },
   "outputs": [],
   "source": [
    "class BinaryLoss():\n",
    "    def __init__(self):\n",
    "        pass\n",
    "\n",
    "    def sigmoidFunciton(self,x):\n",
    "        return np.reciprocal(np.exp(x * -1))\n",
    "\n",
    "    def backwardSigmoidFunction(self,value):\n",
    "        # Computes the differentaition of the sigmoid function\n",
    "        return self.sigmoidFunciton(value) * (1 - self.sigmoidFunciton(x))\n",
    "\n",
    "    def forward(self,original,predicted):\n",
    "        self.original = original\n",
    "        self.predicted = predicted\n",
    "        self.logits =  self.sigmoidFunciton(self.predicted.value)\n",
    "        #Computes the binary classifiction loss\n",
    "        #TODO:check if its addition or mean\n",
    "        self.value = np.sum(self.original * np.log(self.logits) * -1 + -1 * np.log(1- self.logits) * (1-self.original))\n",
    "        print(self.logits)\n",
    "        print(self.value)\n",
    "        return self.value\n",
    "\n",
    "    def __call__(self):\n",
    "        pass\n",
    "\n",
    "    def backward(self,value):\n",
    "        ## Each of this functions should call the backward function of it's calls variables.\n",
    "        ## scalar value times\n",
    "        ## [[1]]  1* 1\n",
    "        self.sigmoidGrad = self.backwardSigmoidFunction(self.predicted.value) * value # this will be a vector\n",
    "        self.backward(self.sigmoidGrad)\n"
   ],
   "id": "8e267638bc0fc87b"
  },
  {
   "cell_type": "code",
   "execution_count": 134,
   "metadata": {
    "collapsed": false,
    "ExecuteTime": {
     "end_time": "2023-10-19T17:03:25.735721Z",
     "start_time": "2023-10-19T17:03:25.733880Z"
    }
   },
   "outputs": [],
   "source": [
    "class Add():\n",
    "    def __init__(self):\n",
    "        pass\n",
    "\n",
    "    def forward(self, f_input1, f_input2):\n",
    "        self.f_input1 = f_input1\n",
    "        self.f_input2 = f_input2\n",
    "        self.value = f_input1.value + f_input2.value\n",
    "        return self.value\n",
    "\n",
    "    def backward(self, b_grad, learning_rate):\n",
    "        # print(\"This is the Addition : \",b_grad.shape)\n",
    "        self.grad = b_grad * np.ones(self.value.shape)\n",
    "\n",
    "        self.f_input2.backward(self.grad, learning_rate)\n",
    "        self.f_input1.backward(self.grad, learning_rate)\n",
    "\n",
    "        # self.grad = b_grad * 1 #Addition\n",
    "        return self.grad"
   ],
   "id": "a1ccb7ab298cfbd3"
  },
  {
   "cell_type": "code",
   "execution_count": 135,
   "metadata": {
    "collapsed": false,
    "ExecuteTime": {
     "end_time": "2023-10-19T17:03:25.877954Z",
     "start_time": "2023-10-19T17:03:25.872463Z"
    }
   },
   "outputs": [],
   "source": [
    "# for bias\n",
    "class Bias(Variable):\n",
    "\n",
    "     def backward(self,value,learning_rate):\n",
    "         self.update = np.sum(value,axis = 0)\n",
    "         self.value -= self.update * learning_rate\n",
    "         \n",
    "         if(self.store_gradient):\n",
    "             # TODO: confirm if they want the gradients to be stored with learning rate multiplied or not \n",
    "             self.gradients.append(self.update.tolist())"
   ],
   "id": "26bdd03b45a15b46"
  },
  {
   "cell_type": "code",
   "execution_count": 156,
   "outputs": [],
   "source": [
    "# optional if needed \n",
    "class Linear():\n",
    "    def __init__(self,weight, bias,activation_function = False,name = \"layer\"):\n",
    "        # weight and bias should be of type Variable\n",
    "        # activation_function True means we are using ReLU\n",
    "        self.weight = weight\n",
    "        self.bias = bias\n",
    "        self.addition = Add()\n",
    "        self.matmul = MatrixMul()\n",
    "        self.activation_function = activation_function\n",
    "        self.name = name\n",
    "        if(self.activation_function):\n",
    "            self.activation = ReLU()\n",
    "\n",
    "    def forward(self,x):\n",
    "        self.input = x\n",
    "        self.value = self.matmul.forward(x,self.weight)\n",
    "        self.value = self.addition.forward(self.matmul,self.bias)\n",
    "        self.finalOperation = self.addition\n",
    "        if(self.activation_function):\n",
    "            self.value = self.activation.forward(self.addition)\n",
    "            self.finalOperation = self.activation\n",
    "        return self.finalOperation\n",
    "\n",
    "    def backward(self,grad,learning_rate):\n",
    "        # print(\"This is linear Linear : \", grad.shape)\n",
    "        if self.activation_function:\n",
    "            self.activation.backward(grad,learning_rate)\n",
    "        else:\n",
    "            self.addition.backward(grad,learning_rate)\n",
    "    \n",
    "    def __str__(self):\n",
    "        string = f\"For Layer {self.name}\"\n",
    "        string += '\\n'\n",
    "        string += self.weight.__str__()\n",
    "        string += '\\n'\n",
    "        string += self.bias.__str__()\n",
    "        return string"
   ],
   "metadata": {
    "collapsed": false,
    "ExecuteTime": {
     "end_time": "2023-10-19T17:04:06.552450Z",
     "start_time": "2023-10-19T17:04:06.548364Z"
    }
   },
   "id": "8cec31439cda43d2"
  },
  {
   "cell_type": "code",
   "execution_count": 157,
   "id": "dc624f03",
   "metadata": {
    "collapsed": false,
    "ExecuteTime": {
     "end_time": "2023-10-19T17:04:06.766844Z",
     "start_time": "2023-10-19T17:04:06.762289Z"
    }
   },
   "outputs": [],
   "source": [
    "def dataloader():\n",
    "    with open('assignment-one-test-parameters.pkl','rb') as f:\n",
    "        data = pickle.load(f)\n",
    "    inputs = data[\"inputs\"]\n",
    "    w1 = data[\"w1\"]\n",
    "    w2 = data[\"w2\"]\n",
    "    w3 = data[\"w3\"]\n",
    "    b1 = data[\"b1\"]\n",
    "    b2 = data[\"b2\"]\n",
    "    b3 = data[\"b3\"]\n",
    "    targets = np.reshape(data[\"targets\"],(data[\"targets\"].shape[0],1))\n",
    "    params = {\n",
    "        \"w1\" : w1.T,\n",
    "        \"w2\" : w2.T,\n",
    "        \"w3\" : w3.T,\n",
    "        \"b1\" : np.reshape(b1,(1,b1.shape[0])),\n",
    "        \"b2\" : np.reshape(b2,(1,b2.shape[0])),\n",
    "        \"b3\" : np.reshape(b3,(1,b3.shape[0]))\n",
    "    }\n",
    "    trainset = (inputs, targets)\n",
    "\n",
    "    return trainset, params\n"
   ]
  },
  {
   "cell_type": "code",
   "execution_count": 158,
   "outputs": [],
   "source": [
    "trainset, params = dataloader()\n",
    "w1 = Variable(params[\"w1\"].shape,data= params[\"w1\"],name= \"w1\",store_gradient=True)\n",
    "w2 = Variable(params[\"w2\"].shape,data = params[\"w2\"],name = \"w2\",store_gradient=True)\n",
    "w3 = Variable(params[\"w3\"].shape,data = params[\"w3\"],name = \"w3\",store_gradient=True)\n",
    "b1 = Bias(params[\"b1\"].shape,data = params[\"b1\"] , name = \"b1\",store_gradient=True)\n",
    "b2 = Bias(params[\"b2\"].shape,data = params[\"b2\"] , name = \"b2\",store_gradient=True)\n",
    "b3 = Bias(params[\"b3\"].shape,data = params[\"b3\"] , name = \"b3\",store_gradient=True)"
   ],
   "metadata": {
    "collapsed": false,
    "ExecuteTime": {
     "end_time": "2023-10-19T17:04:06.917600Z",
     "start_time": "2023-10-19T17:04:06.913191Z"
    }
   },
   "id": "fde37cbaa26a8604"
  },
  {
   "cell_type": "code",
   "execution_count": 159,
   "metadata": {
    "collapsed": false,
    "ExecuteTime": {
     "end_time": "2023-10-19T17:04:07.017304Z",
     "start_time": "2023-10-19T17:04:07.013063Z"
    }
   },
   "outputs": [
    {
     "name": "stdout",
     "output_type": "stream",
     "text": [
      "w1 shape :  (2, 10)\n",
      "w2 shape :  (10, 10)\n",
      "w3 shape :  (10, 1)\n"
     ]
    }
   ],
   "source": [
    "print(\"w1 shape : \",w1.value.shape)\n",
    "print(\"w2 shape : \",w2.value.shape)\n",
    "print(\"w3 shape : \",w3.value.shape)"
   ],
   "id": "2897e839e4f467e"
  },
  {
   "cell_type": "code",
   "execution_count": 160,
   "outputs": [],
   "source": [
    "def get_batches(x,y,batch_size):\n",
    "    # shuffle the dataset\n",
    "    number_of_steps = x.shape[0] // batch_size\n",
    "\n",
    "    #TODO: shuffle the dataset\n",
    "    # pass the dataset\n",
    "    start = 0\n",
    "    end = batch_size\n",
    "    for i in range(number_of_steps):\n",
    "        x_final = Variable(x[start : end].shape,x[start : end],requires_grad=False)\n",
    "        y_final  = Variable(y[start : end].shape,y[start:end], requires_grad=False)\n",
    "        start += batch_size\n",
    "        end += batch_size\n",
    "        yield (x_final,y_final)\n",
    "    if(end > x.shape[0] and start < x.shape[0]):\n",
    "        x_final = Variable(x[start :].shape,x[start:],requires_grad=False)\n",
    "        y_final  = Variable(y[start :].shape,y[start:], requires_grad=False)\n",
    "        yield (x_final,y_final)"
   ],
   "metadata": {
    "collapsed": false,
    "ExecuteTime": {
     "end_time": "2023-10-19T17:04:07.653580Z",
     "start_time": "2023-10-19T17:04:07.649465Z"
    }
   },
   "id": "7e81a21d7dad0908"
  },
  {
   "cell_type": "code",
   "execution_count": 161,
   "metadata": {
    "collapsed": false,
    "ExecuteTime": {
     "end_time": "2023-10-19T17:04:07.823272Z",
     "start_time": "2023-10-19T17:04:07.818325Z"
    }
   },
   "outputs": [
    {
     "name": "stdout",
     "output_type": "stream",
     "text": [
      "(200, 2)\n",
      "This is the total :  200\n"
     ]
    }
   ],
   "source": [
    "x = trainset[0]\n",
    "y = trainset[1]\n",
    "total = 0\n",
    "k = 30\n",
    "for x,y in get_batches(x,y,200):\n",
    "    print(x.value.shape)\n",
    "    total += x.value.shape[0]\n",
    "    k-=1\n",
    "    if(k == 0):\n",
    "        break\n",
    "print(\"This is the total : \",total)"
   ],
   "id": "74d60a5177da0a36"
  },
  {
   "cell_type": "code",
   "execution_count": 162,
   "outputs": [],
   "source": [
    "# training loop\n",
    "n_epochs = 5\n",
    "batch_size = 200\n",
    "learning_rate = 0.01\n",
    "# x = Variable(trainset[0].shape,trainset[0],requires_grad=False)\n",
    "# y_true = Variable(trainset[1].shape,trainset[1],requires_grad=False)\n",
    "\n",
    "# Initialize the netword\n",
    "Linear1 = Linear(w1,b1,True)\n",
    "Linear2 = Linear(w2,b2,True)\n",
    "Linear3 = Linear(w3,b3,False)\n",
    "loss = RegressionLoss()\n",
    "\n",
    "# bookeeping the losses\n",
    "losses = []\n",
    "\n",
    "# run through each of the epochs\n",
    "for _ in range(n_epochs):\n",
    "    for x,y_true in get_batches(trainset[0],trainset[1],batch_size=batch_size):\n",
    "        # forward pass\n",
    "        y = Linear1.forward(x)\n",
    "        y = Linear2.forward(y)\n",
    "        y = Linear3.forward(y)\n",
    "\n",
    "        loss_value = loss.forward(y_true,y)\n",
    "\n",
    "        losses.append(loss_value)\n",
    "\n",
    "        # backward pass\n",
    "        loss.backward(np.array([[1]]), learning_rate)"
   ],
   "metadata": {
    "collapsed": false,
    "ExecuteTime": {
     "end_time": "2023-10-19T17:04:07.975713Z",
     "start_time": "2023-10-19T17:04:07.971006Z"
    }
   },
   "id": "d426af5cc872eb2d"
  },
  {
   "cell_type": "code",
   "execution_count": 163,
   "outputs": [
    {
     "data": {
      "text/plain": "[0.5380007999139312,\n 0.5349548334472647,\n 0.5319943836668033,\n 0.5291157052219103,\n 0.5263170816498597]"
     },
     "execution_count": 163,
     "metadata": {},
     "output_type": "execute_result"
    }
   ],
   "source": [
    "losses"
   ],
   "metadata": {
    "collapsed": false,
    "ExecuteTime": {
     "end_time": "2023-10-19T17:04:08.119559Z",
     "start_time": "2023-10-19T17:04:08.116432Z"
    }
   },
   "id": "b642bed6c15ca3bb"
  },
  {
   "cell_type": "code",
   "execution_count": 164,
   "id": "61c89f6f",
   "metadata": {
    "collapsed": false,
    "ExecuteTime": {
     "end_time": "2023-10-19T17:04:08.506596Z",
     "start_time": "2023-10-19T17:04:08.444511Z"
    }
   },
   "outputs": [
    {
     "data": {
      "text/plain": "[<matplotlib.lines.Line2D at 0x113e1d450>]"
     },
     "execution_count": 164,
     "metadata": {},
     "output_type": "execute_result"
    },
    {
     "data": {
      "text/plain": "<Figure size 640x480 with 1 Axes>",
      "image/png": "[encoded data removed]"
     },
     "metadata": {},
     "output_type": "display_data"
    }
   ],
   "source": [
    "plt.plot(np.arange(len(losses)),losses)"
   ]
  },
  {
   "cell_type": "code",
   "execution_count": 166,
   "outputs": [
    {
     "name": "stdout",
     "output_type": "stream",
     "text": [
      "For Layer layer\n",
      "For the Variable w1\n",
      "[[-0.0037828  -0.5815046  -0.272404   -0.01617239 -0.0627711  -0.21444027\n",
      "  -0.6748538  -0.29148576  0.2793359  -0.4792906 ]\n",
      " [ 0.38115063 -0.5194581   0.18994932  0.5585942   0.1867787  -0.13992003\n",
      "  -0.46758235  0.02619374  0.42409536 -0.30781597]]\n",
      "For the Variable b1\n",
      "[[ 0.25821918  0.5876789  -0.14520577  0.5268024  -0.11438907  0.07537429\n",
      "   0.6404783  -0.655962   -0.44541064 -0.17919399]]\n",
      "For Layer layer\n",
      "For the Variable w2\n",
      "[[-0.12326556  0.01660209  0.20313373  0.14284317 -0.24674167 -0.29465777\n",
      "   0.11826993  0.29747492 -0.13118714  0.12149685]\n",
      " [ 0.27274305 -0.16357203  0.31200442  0.12732266 -0.1140127   0.28236648\n",
      "   0.15847705  0.21307717  0.18867704  0.01960092]\n",
      " [-0.2049724   0.05350089  0.12558031 -0.18732388  0.12421007  0.24045451\n",
      "   0.22643268 -0.13788334 -0.1924759  -0.15436056]\n",
      " [-0.145588   -0.29546767  0.0439826   0.09512229  0.25680166 -0.31520522\n",
      "   0.12224436 -0.07961874  0.2840617   0.14513168]\n",
      " [-0.2209295  -0.22849551  0.21206677  0.1735958   0.27512795  0.05918899\n",
      "  -0.31293893 -0.30123812  0.2166801  -0.3033884 ]\n",
      " [-0.29628384 -0.1633753  -0.18689206 -0.03986187  0.27967745 -0.05293418\n",
      "  -0.20563704 -0.00568394 -0.26630992 -0.18710418]\n",
      " [-0.18509981  0.197969    0.05653228  0.01222133  0.06479534 -0.05053413\n",
      "   0.15646592 -0.23814163 -0.0776772  -0.07857277]\n",
      " [ 0.27182874  0.18541107 -0.24517313  0.07327145 -0.27498618 -0.14475544\n",
      "   0.0661869  -0.24392441  0.01426902 -0.15403877]\n",
      " [ 0.14110664 -0.14024544 -0.21917307  0.19617036  0.02896494  0.12160733\n",
      "  -0.24658765 -0.01742482  0.04606863 -0.11073363]\n",
      " [ 0.15311466 -0.01177277 -0.16416202  0.30369976 -0.19707924 -0.18694828\n",
      "  -0.18267013  0.04748005  0.07541738 -0.2588278 ]]\n",
      "For the Variable b2\n",
      "[[-0.06758132  0.06655212 -0.20626974 -0.01663307  0.22126363 -0.03146441\n",
      "   0.01271447 -0.02731699  0.06118007  0.19608805]]\n",
      "For Layer layer\n",
      "For the Variable w3\n",
      "[[ 0.29953903]\n",
      " [ 0.20071785]\n",
      " [ 0.29918313]\n",
      " [-0.02142851]\n",
      " [-0.27751815]\n",
      " [-0.15064639]\n",
      " [ 0.2177395 ]\n",
      " [-0.00139654]\n",
      " [-0.1524644 ]\n",
      " [-0.2334101 ]]\n",
      "For the Variable b3\n",
      "[[-0.2777916]]\n"
     ]
    }
   ],
   "source": [
    "# Printing the values of the weights and bias for each of the layer \n",
    "print(Linear1)\n",
    "print(Linear2)\n",
    "print(Linear3)"
   ],
   "metadata": {
    "collapsed": false,
    "ExecuteTime": {
     "end_time": "2023-10-19T17:04:20.926867Z",
     "start_time": "2023-10-19T17:04:20.917452Z"
    }
   },
   "id": "9ea11cd055df8d31"
  },
  {
   "cell_type": "code",
   "execution_count": 173,
   "outputs": [
    {
     "data": {
      "text/plain": "array([[-0.03022326, -0.00952361,  0.00117503,  0.04324748,  0.00039139,\n         0.01486777, -0.01359275,  0.        ,  0.00416565, -0.00172229],\n       [-0.03655386, -0.01858819, -0.00666843,  0.04126684,  0.00661337,\n         0.01854607, -0.01443642,  0.        ,  0.00369747, -0.00205503]])"
     },
     "execution_count": 173,
     "metadata": {},
     "output_type": "execute_result"
    }
   ],
   "source": [
    "# Computing the average for each of the layer weights and bias \n",
    "#TODO: the same thing for different parameters as well\n",
    "np.mean(np.array(Linear1.weight.gradients),axis = 0)"
   ],
   "metadata": {
    "collapsed": false,
    "ExecuteTime": {
     "end_time": "2023-10-19T17:07:40.728412Z",
     "start_time": "2023-10-19T17:07:40.717487Z"
    }
   },
   "id": "8cef61d7eb9f4012"
  },
  {
   "cell_type": "code",
   "execution_count": null,
   "outputs": [],
   "source": [],
   "metadata": {
    "collapsed": false
   },
   "id": "8618d75bd0ad9d54"
  }
 ],
 "metadata": {
  "kernelspec": {
   "display_name": "Python 3 (ipykernel)",
   "language": "python",
   "name": "python3"
  },
  "language_info": {
   "codemirror_mode": {
    "name": "ipython",
    "version": 3
   },
   "file_extension": ".py",
   "mimetype": "text/x-python",
   "name": "python",
   "nbconvert_exporter": "python",
   "pygments_lexer": "ipython3",
   "version": "3.10.13"
  }
 },
 "nbformat": 4,
 "nbformat_minor": 5
}
