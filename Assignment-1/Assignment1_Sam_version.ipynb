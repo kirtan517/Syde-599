{
 "cells": [
  {
   "cell_type": "code",
   "execution_count": 37,
   "id": "f6b4968c-81e5-4eca-b980-50849ad025f2",
   "metadata": {
    "ExecuteTime": {
     "end_time": "2023-10-20T00:37:40.181808Z",
     "start_time": "2023-10-20T00:37:40.176846Z"
    }
   },
   "outputs": [],
   "source": [
    "import numpy as np"
   ]
  },
  {
   "cell_type": "code",
   "execution_count": 38,
   "id": "f6ddd74a-92b4-4144-afb9-a73086c8eef0",
   "metadata": {
    "ExecuteTime": {
     "end_time": "2023-10-20T00:37:40.371100Z",
     "start_time": "2023-10-20T00:37:40.361485Z"
    }
   },
   "outputs": [
    {
     "data": {
      "text/plain": "{'w1': array([[-0.00529397,  0.37932295],\n        [-0.58198076, -0.5203875 ],\n        [-0.27234524,  0.1896159 ],\n        [-0.01401001,  0.56065756],\n        [-0.06275153,  0.18710935],\n        [-0.2136969 , -0.13899273],\n        [-0.6755334 , -0.46830416],\n        [-0.29148576,  0.02619374],\n        [ 0.27954417,  0.42428023],\n        [-0.47937673, -0.30791873]], dtype=float32),\n 'w2': array([[-0.12326556,  0.27322105, -0.2049724 , -0.14557004, -0.2209295 ,\n         -0.2961666 , -0.18459494,  0.27182874,  0.14110664,  0.1532669 ],\n        [ 0.01663092, -0.16212475,  0.05350089, -0.2952602 , -0.22849551,\n         -0.1630249 ,  0.19952008,  0.18541107, -0.14024544, -0.01141027],\n        [ 0.20224687,  0.3143725 ,  0.12550515,  0.04272011,  0.21202639,\n         -0.18619564,  0.05892715, -0.24517313, -0.21917307, -0.16335806],\n        [ 0.14308453,  0.12717429, -0.18731831,  0.09553465,  0.1736002 ,\n         -0.03991345,  0.01207405,  0.07327145,  0.19618031,  0.30364004],\n        [-0.24369258, -0.11588791,  0.12428063,  0.2620103 ,  0.2751837 ,\n          0.2790257 ,  0.06293392, -0.27498618,  0.02909058, -0.19783378],\n        [-0.29470977,  0.280966  ,  0.2404469 , -0.31544605,  0.05918899,\n         -0.05327174, -0.05203882, -0.14475544,  0.12160733, -0.18730281],\n        [ 0.11592636,  0.15991893,  0.22637847,  0.11824107, -0.31298175,\n         -0.20513597,  0.15789726,  0.0661869 , -0.24668422, -0.1820901 ],\n        [ 0.29749104,  0.2130799 , -0.13788326, -0.07958971, -0.30123797,\n         -0.00568393, -0.23813814, -0.24392441, -0.01742402,  0.04748005],\n        [-0.12950484,  0.18764248, -0.19243696,  0.2869356 ,  0.21671084,\n         -0.26666948, -0.07870413,  0.01426902,  0.04613796,  0.07500109],\n        [ 0.12409672,  0.01894209, -0.15429662,  0.1496355 , -0.30334112,\n         -0.1874303 , -0.07916126, -0.15403877, -0.11062703, -0.25918713]],\n       dtype=float32),\n 'w3': array([[ 0.29954556,  0.20082232,  0.3002309 , -0.02287012, -0.2840742 ,\n         -0.14991638,  0.21532115, -0.00204995, -0.15717986, -0.24232906]],\n       dtype=float32),\n 'b1': array([ 0.25683326,  0.5871729 , -0.14552271,  0.52913636, -0.11397386,\n         0.07482189,  0.6402684 , -0.655962  , -0.44515052, -0.17901486],\n       dtype=float32),\n 'b2': array([-0.06726643,  0.06759572, -0.20601156, -0.01622862,  0.22637191,\n        -0.03250828,  0.00878868, -0.02728063,  0.06399861,  0.2010701 ],\n       dtype=float32),\n 'b3': array([-0.2959424], dtype=float32),\n 'inputs': array([[ 0.09762701,  0.43037873],\n        [ 0.20552675,  0.08976637],\n        [-0.1526904 ,  0.29178823],\n        [-0.12482558,  0.783546  ],\n        [ 0.92732552, -0.23311696],\n        [ 0.58345008,  0.05778984],\n        [ 0.13608912,  0.85119328],\n        [-0.85792788, -0.8257414 ],\n        [-0.95956321,  0.66523969],\n        [ 0.5563135 ,  0.7400243 ],\n        [ 0.95723668,  0.59831713],\n        [-0.07704128,  0.56105835],\n        [-0.76345115,  0.27984204],\n        [-0.71329343,  0.88933783],\n        [ 0.04369664, -0.17067612],\n        [-0.47088878,  0.54846738],\n        [-0.08769934,  0.1368679 ],\n        [-0.9624204 ,  0.23527099],\n        [ 0.22419145,  0.23386799],\n        [ 0.88749616,  0.3636406 ],\n        [-0.2809842 , -0.12593609],\n        [ 0.39526239, -0.87954906],\n        [ 0.33353343,  0.34127574],\n        [-0.57923488, -0.7421474 ],\n        [-0.3691433 , -0.27257846],\n        [ 0.14039354, -0.12279697],\n        [ 0.97674768, -0.79591038],\n        [-0.58224649, -0.67738096],\n        [ 0.30621665, -0.49341679],\n        [-0.06737845, -0.51114882],\n        [-0.68206083, -0.77924972],\n        [ 0.31265918, -0.7236341 ],\n        [-0.60683528, -0.26254966],\n        [ 0.64198646, -0.80579745],\n        [ 0.67588981, -0.80780318],\n        [ 0.95291893, -0.0626976 ],\n        [ 0.95352218,  0.20969104],\n        [ 0.47852716, -0.92162442],\n        [-0.43438607, -0.75960688],\n        [-0.4077196 , -0.76254456],\n        [-0.36403364, -0.17147401],\n        [-0.87170501,  0.38494424],\n        [ 0.13320291, -0.46922102],\n        [ 0.04649611, -0.81211898],\n        [ 0.15189299,  0.8585924 ],\n        [-0.3628621 ,  0.33482076],\n        [-0.73640428,  0.43265441],\n        [-0.42118781, -0.63361728],\n        [ 0.17302587, -0.95978491],\n        [ 0.65788006, -0.99060905],\n        [ 0.35563307, -0.45998405],\n        [ 0.47038804,  0.92437709],\n        [-0.50249371,  0.15231467],\n        [ 0.18408386,  0.14450381],\n        [-0.55383673,  0.90549802],\n        [-0.10574924,  0.69281734],\n        [ 0.39895855, -0.4051261 ],\n        [ 0.62759564, -0.20698852],\n        [ 0.76220639,  0.16254575],\n        [ 0.76347072,  0.38506318],\n        [ 0.45050856,  0.00264876],\n        [ 0.91216727,  0.2879804 ],\n        [-0.1522899 ,  0.21278643],\n        [-0.9616136 , -0.39685037],\n        [ 0.32034707, -0.41984479],\n        [ 0.23603086, -0.1424626 ],\n        [-0.72905187, -0.40343535],\n        [ 0.13992982,  0.18174552],\n        [ 0.1486505 ,  0.30640164],\n        [ 0.30420654, -0.13716313],\n        [ 0.79309319, -0.26487626],\n        [-0.12827015,  0.78384671],\n        [ 0.61238798,  0.40777717],\n        [-0.79954623,  0.83896523],\n        [ 0.4284826 ,  0.99769401],\n        [-0.70110339,  0.73625211],\n        [-0.67501413,  0.23111913],\n        [-0.75236003,  0.69601646],\n        [ 0.61463792,  0.13820148],\n        [-0.18563341, -0.86166601],\n        [ 0.39485755, -0.09291463],\n        [ 0.4441112 ,  0.73276465],\n        [ 0.95104301,  0.71160668],\n        [-0.97657183, -0.28004387],\n        [ 0.45998112, -0.65674065],\n        [ 0.04207321, -0.89132402],\n        [-0.60000695, -0.96295641],\n        [ 0.58739541, -0.55215062],\n        [-0.30929664,  0.85616259],\n        [ 0.4088288 , -0.93632214],\n        [-0.67061169,  0.2429568 ],\n        [ 0.15445718, -0.52421436],\n        [ 0.868428  ,  0.22793191],\n        [ 0.07126561,  0.17981995],\n        [ 0.46024406, -0.37611001],\n        [-0.20355788, -0.5803125 ],\n        [-0.62761399,  0.88874478],\n        [ 0.47910159, -0.01908238],\n        [-0.54517074, -0.49128704],\n        [-0.88394168, -0.13116675],\n        [-0.37640824,  0.39268698],\n        [-0.24449632, -0.64079264],\n        [-0.95064254, -0.86550074],\n        [ 0.35878555, -0.09260631],\n        [ 0.07315842,  0.79334259],\n        [ 0.98067789, -0.56620603],\n        [ 0.32615641, -0.47335525],\n        [-0.958698  ,  0.51675731],\n        [-0.3599657 , -0.23307221],\n        [ 0.17663423,  0.66209691],\n        [ 0.25796369,  0.74530131],\n        [-0.45291593,  0.59609367],\n        [-0.62872811,  0.90558331],\n        [ 0.37497655, -0.56898465],\n        [ 0.89474118,  0.46171161],\n        [-0.49211671, -0.57337605],\n        [ 0.03640143, -0.94867456],\n        [-0.58505985, -0.15062906],\n        [-0.25166004, -0.07284915],\n        [-0.44474259,  0.17356869],\n        [ 0.72771121, -0.76493629],\n        [ 0.03475821, -0.73586379],\n        [ 0.43371936, -0.20788059],\n        [ 0.13084262, -0.63344033],\n        [-0.71030448, -0.02388744],\n        [-0.28877452,  0.88086389],\n        [ 0.53065051,  0.49732724],\n        [ 0.80743948, -0.83315513],\n        [ 0.10438494,  0.16895214],\n        [ 0.92387276, -0.41570495],\n        [-0.51834244, -0.79941212],\n        [-0.96714074,  0.85905863],\n        [ 0.33983309,  0.57030582],\n        [-0.43653979,  0.17282033],\n        [-0.87208947, -0.02874481],\n        [ 0.95499028,  0.75301049],\n        [-0.3236821 ,  0.92314031],\n        [-0.53659675,  0.89863764],\n        [ 0.88275541,  0.59840517],\n        [ 0.26089587,  0.74857593],\n        [-0.41395943,  0.69788711],\n        [ 0.23575338, -0.97352628],\n        [-0.30553296, -0.70371828],\n        [ 0.96365878, -0.04325939],\n        [-0.00521727,  0.27894503],\n        [-0.26283079, -0.72619946],\n        [ 0.64423547, -0.62030418],\n        [ 0.02263797, -0.55136594],\n        [-0.80431103,  0.72438303],\n        [ 0.94583898,  0.92166932],\n        [ 0.813111  ,  0.54809467],\n        [-0.3337097 , -0.83779722],\n        [-0.18551766, -0.53553172],\n        [-0.73502473, -0.89314564],\n        [ 0.45118873, -0.97714508],\n        [ 0.5411615 , -0.70610671],\n        [-0.84095583, -0.82079393],\n        [ 0.34409561, -0.50926558],\n        [-0.15892107,  0.11473758],\n        [ 0.72110235,  0.45408853],\n        [-0.45934419, -0.7370344 ],\n        [-0.88925136, -0.39680273],\n        [-0.4757637 , -0.08771887],\n        [ 0.36656267,  0.39125089],\n        [-0.43296231, -0.24014609],\n        [-0.63769808,  0.57709102],\n        [-0.88630385,  0.39399448],\n        [ 0.55739079,  0.55481512],\n        [-0.48115487, -0.25237372],\n        [ 0.17519927, -0.4543562 ],\n        [-0.2582944 , -0.60589144],\n        [-0.08028823, -0.9107754 ],\n        [ 0.59959177, -0.84608711],\n        [ 0.0376703 , -0.3863798 ],\n        [ 0.1550859 ,  0.91886668],\n        [ 0.29114049, -0.92927513],\n        [-0.13919512,  0.0200337 ],\n        [ 0.07235499,  0.36278502],\n        [-0.4448078 , -0.74227887],\n        [-0.21464865,  0.91281145],\n        [-0.62573822,  0.80796791],\n        [ 0.0876119 , -0.08617716],\n        [ 0.76408282, -0.08279208],\n        [ 0.44833527, -0.20194936],\n        [ 0.80808879,  0.38005004],\n        [ 0.39924411, -0.3445592 ],\n        [ 0.51355729,  0.27212211],\n        [-0.51995945, -0.67892236],\n        [ 0.59278295,  0.91833321],\n        [-0.08372235,  0.18196833],\n        [ 0.71544529, -0.08555309],\n        [ 0.90374895,  0.15150232],\n        [ 0.64153424,  0.81768744],\n        [ 0.63104764, -0.68117107],\n        [ 0.25779688, -0.20313148],\n        [-0.8745741 , -0.1519355 ],\n        [-0.48263187,  0.69807662],\n        [-0.93339075,  0.91796544],\n        [-0.2892623 , -0.28658622],\n        [-0.96734299, -0.62953535]]),\n 'targets': array([ 1.07380263,  0.48381294,  0.64089536,  0.50397545,  0.25870022,\n         0.76400649,  0.58673624, -1.37843908, -0.09130502,  1.28522988,\n         1.90991364,  0.90461752,  0.00674569, -0.37259897, -0.46717192,\n         0.51754132,  0.32915618, -0.28877844,  0.89456936,  1.79713368,\n        -0.66638294,  0.02582101,  1.21176387, -1.30356881, -1.12458663,\n        -0.23588659,  0.37861703, -1.43095454, -0.69356949, -1.06676514,\n        -1.32129921, -0.45052663, -1.34126368,  0.06903269,  0.10811177,\n         0.75721981,  1.56566199,  0.23478341, -1.11983296, -1.08641754,\n        -0.87705546,  0.06367709, -0.86212577, -0.51006901,  0.58166936,\n         0.50549029,  0.24129764, -1.33437009,  0.04702226,  0.62838179,\n        -0.63647535,  0.70573582, -0.0420361 ,  0.62262263, -0.26129219,\n         0.71632403, -0.55695087,  0.02219144,  1.25095302,  1.6989849 ,\n         0.4588298 ,  1.69841765,  0.46751046, -1.90956593, -0.6481147 ,\n        -0.1967358 , -1.68338799,  0.6803786 ,  0.96932424, -0.11349187,\n         0.05372378,  0.49979603,  1.57071   , -0.31494637,  0.43572701,\n         0.0358746 , -0.01106908,  0.06394935,  1.03529796, -0.60667109,\n         0.10708524,  1.18845028,  1.73809429, -1.74717292, -0.42121248,\n        -0.29274816, -0.71612031, -0.39921347,  0.12735967,  0.21011057,\n         0.02067723, -0.84265077,  1.5248524 ,  0.60661473, -0.46496435,\n        -1.17189642, -0.28516845,  0.41918842, -1.54479614, -1.28445088,\n         0.5672984 , -1.14826031, -1.36072265,  0.07194103,  0.67773438,\n         0.00223044, -0.67034221,  0.03991659, -1.02848645,  1.0497483 ,\n         0.97543091,  0.50186116, -0.3364398 , -0.60163108,  1.88751548,\n        -1.46566497, -0.12414438, -1.04081032, -0.47852973,  0.07391674,\n         0.05455067, -0.70304383, -0.17391305, -0.78256606, -0.78527867,\n         0.07682527,  1.53061526,  0.30695472,  0.61059008, -0.04126668,\n        -1.10762086, -0.53868739,  1.31553982,  0.08010801, -0.96227126,\n         1.65537791, -0.08455978, -0.22351211,  1.83534825,  0.97115905,\n         0.39894133,  0.1526796 , -1.10762881,  0.82817337,  0.76317915,\n        -1.02078411, -0.28518882, -0.96436999, -0.0426477 ,  1.18944592,\n         1.80171802, -0.82151604, -1.17929392, -1.06444819,  0.37944957,\n        -0.25643077, -1.37467503, -0.65548076,  0.19378247,  1.71071848,\n        -1.19465881, -1.83715602, -0.74786586,  1.30876734, -1.1178439 ,\n         0.33311734,  0.05875356,  1.54259981, -1.19351503, -0.81453738,\n        -1.20346891, -0.35693925,  0.13468295, -0.89929717,  0.40722277,\n         0.07077541, -0.07629892,  0.98087268, -1.16885693,  0.05584997,\n        -0.05838625, -0.17982641,  0.50690662, -0.14439341,  1.73792313,\n        -0.48387267,  1.26806049, -1.36609659,  0.84654128,  0.45731524,\n         0.44989663,  1.36193966,  1.18348099, -0.21130325, -0.33791878,\n        -1.33397397,  0.32992202, -0.67851504, -1.07279875, -1.88567638])}"
     },
     "execution_count": 38,
     "metadata": {},
     "output_type": "execute_result"
    }
   ],
   "source": [
    "import pickle\n",
    "\n",
    "with open('assignment-one-test-parameters.pkl', 'rb') as f:\n",
    "    data = pickle.load(f)\n",
    "data"
   ]
  },
  {
   "cell_type": "code",
   "execution_count": 39,
   "id": "23a3896f-da14-4801-a4b0-fe741102e787",
   "metadata": {
    "ExecuteTime": {
     "end_time": "2023-10-20T00:37:40.520396Z",
     "start_time": "2023-10-20T00:37:40.516821Z"
    }
   },
   "outputs": [],
   "source": [
    "class Add():\n",
    "    '''\n",
    "    Adition with forward and backward pass.\n",
    "    '''\n",
    "    def __init__(self):\n",
    "        pass\n",
    "\n",
    "    def forward(self, input1, input2):\n",
    "        '''\n",
    "        Performs a forward pass.\n",
    "        '''\n",
    "        self.input1 = input1\n",
    "        self.input2 = input2\n",
    "        self.output = self.input1 + self.input2\n",
    "        return self.output\n",
    "    \n",
    "    def backward(self, prev_grad):\n",
    "        '''\n",
    "        Receives the Loss Gradient from previous operator and performs a backward pass. \n",
    "        '''\n",
    "        self.grad = prev_grad\n",
    "        return self.grad"
   ]
  },
  {
   "cell_type": "code",
   "execution_count": 40,
   "id": "31c5d938-57ac-4563-9b87-ad388337553c",
   "metadata": {
    "ExecuteTime": {
     "end_time": "2023-10-20T00:37:40.626730Z",
     "start_time": "2023-10-20T00:37:40.622625Z"
    }
   },
   "outputs": [],
   "source": [
    "class Mult():\n",
    "    '''\n",
    "    Multiplication with forward and backward pass.\n",
    "    '''\n",
    "    def __init__(self):\n",
    "        pass\n",
    "\n",
    "    def forward(self, input1, input2):\n",
    "        '''\n",
    "        Performs a forward pass. It is order sensitive.\n",
    "        '''\n",
    "        self.input1 = input1\n",
    "        self.input2 = input2\n",
    "        self.output = np.matmul(self.input1, self.input2)\n",
    "        return self.output\n",
    "    \n",
    "    def backward(self, prev_grad):\n",
    "        '''\n",
    "        Receives the Loss Gradient from previous operator and performs a backward pass.\\n\n",
    "        First output corresponds to `input1`.\\n\n",
    "        Second output corresponds to `input2`.\n",
    "        '''\n",
    "        self.grad1 = np.matmul(prev_grad, self.input2.T)\n",
    "        self.grad2 = np.matmul(self.input1.T, prev_grad)\n",
    "        return self.grad1, self.grad2"
   ]
  },
  {
   "cell_type": "code",
   "execution_count": 41,
   "id": "22cae383-fd0a-4460-8c71-7eb2234c6867",
   "metadata": {
    "ExecuteTime": {
     "end_time": "2023-10-20T00:37:40.748058Z",
     "start_time": "2023-10-20T00:37:40.744309Z"
    }
   },
   "outputs": [],
   "source": [
    "class Relu():\n",
    "    '''\n",
    "    Relu with forward and backward pass\n",
    "    '''\n",
    "\n",
    "    def __init__(self):\n",
    "        pass\n",
    "\n",
    "    def forward(self, input):\n",
    "        '''\n",
    "        Performs a forward pass.\n",
    "        '''\n",
    "        self.input = input\n",
    "        self.output = np.maximum(0, self.input)\n",
    "        return self.output\n",
    "    \n",
    "    def backward(self, prev_grad):\n",
    "        '''\n",
    "        Receives the Loss Gradient from previous operator and performs a backward pass.\\n\n",
    "        It uses element-wise multiplication for new gradient.\n",
    "        '''\n",
    "        mask = np.zeros_like(self.input)\n",
    "        mask[self.input > 0] = 1\n",
    "        self.grad = np.multiply(prev_grad, mask)\n",
    "        return self.grad"
   ]
  },
  {
   "cell_type": "code",
   "execution_count": 42,
   "id": "9292caeb-7d82-49c0-b28c-4d04c8321f11",
   "metadata": {
    "ExecuteTime": {
     "end_time": "2023-10-20T00:37:40.868866Z",
     "start_time": "2023-10-20T00:37:40.864739Z"
    }
   },
   "outputs": [],
   "source": [
    "class Regression:\n",
    "    '''\n",
    "    Linear Regression.\n",
    "    '''\n",
    "    def __init__(self, target):\n",
    "        self.target = target\n",
    "\n",
    "    def loss(self, predicted):\n",
    "        '''\n",
    "        Returns the sum of the losses for Linear Regression\n",
    "        '''\n",
    "        #self.predicted = predicted\n",
    "        self.output = np.mean(np.power(self.target - predicted, 2))\n",
    "        return self.output\n",
    "\n",
    "    def gradient(self, predicted):\n",
    "        '''\n",
    "        Returns the difference between the `expected` and `actual` value.\n",
    "        '''\n",
    "        self.grad = (predicted - self.target) * 2/len(self.target)\n",
    "        return self.grad"
   ]
  },
  {
   "cell_type": "code",
   "execution_count": 43,
   "id": "d7af3eb5-0c4a-405b-b675-4c21bac7fd0c",
   "metadata": {
    "ExecuteTime": {
     "end_time": "2023-10-20T00:37:40.983442Z",
     "start_time": "2023-10-20T00:37:40.979210Z"
    }
   },
   "outputs": [],
   "source": [
    "class Binary:\n",
    "    '''\n",
    "    Binary Clasification.\n",
    "    '''\n",
    "    def __init__(self, target):\n",
    "        self.target = np.reciprocal(1 + np.exp(x * -1))\n",
    "        \n",
    "\n",
    "    def loss(self, predicted):\n",
    "        '''\n",
    "        Returns the sum of the losses for Binary Classification.\n",
    "        '''\n",
    "        predicted = 1 / (1 + np.exp(predicted * -1)) \n",
    "        self.output = -1 * np.sum(np.multiply(predicted, np.log(self.target)) + np.multiply((1 - predicted), np.log(1 - self.target)))\n",
    "\n",
    "    def gradient(self, predicted):\n",
    "        '''\n",
    "        Returns the difference between the `expected` and `actual` value.\n",
    "        '''\n",
    "        predicted = 1 / (1 + np.exp(predicted * -1))\n",
    "        self.grad = self.target - predicted\n",
    "        return self.grad"
   ]
  },
  {
   "cell_type": "code",
   "execution_count": 44,
   "id": "337cd723-f36e-4e4a-bc2f-b7ff3d9bf5f3",
   "metadata": {
    "ExecuteTime": {
     "end_time": "2023-10-20T00:37:41.118653Z",
     "start_time": "2023-10-20T00:37:41.113910Z"
    }
   },
   "outputs": [
    {
     "data": {
      "text/plain": "'\\ny = np.matrix(\"1;2\")\\ny_pred = np.matrix(\"4;5\")\\n\\nb = Binary(y)\\nprint(b.target)\\n#los = b.loss(y_pred)\\n'"
     },
     "execution_count": 44,
     "metadata": {},
     "output_type": "execute_result"
    }
   ],
   "source": [
    "'''\n",
    "y = np.matrix(\"1;2\")\n",
    "y_pred = np.matrix(\"4;5\")\n",
    "\n",
    "b = Binary(y)\n",
    "print(b.target)\n",
    "#los = b.loss(y_pred)\n",
    "'''"
   ]
  },
  {
   "cell_type": "code",
   "execution_count": 45,
   "id": "2aaaeb95-b040-4a63-b0f0-c816e8a34ae2",
   "metadata": {
    "ExecuteTime": {
     "end_time": "2023-10-20T00:37:41.253170Z",
     "start_time": "2023-10-20T00:37:41.250377Z"
    }
   },
   "outputs": [],
   "source": [
    "class FullyConnectedLayer():\n",
    "    '''\n",
    "    Fully-Connected Layer.\n",
    "    '''\n",
    "    def __init__(self, weights, bias, relu_activation=False):\n",
    "        '''\n",
    "        `relu_activation` can be set to `True` to use ReLU in layer.\n",
    "        '''\n",
    "        self.weights = weights\n",
    "        self.bias = bias\n",
    "        self.add = Add()\n",
    "        self.mult = Mult()\n",
    "        self.relu_activation = relu_activation\n",
    "        if self.relu_activation:\n",
    "            self.relu = Relu()\n",
    "    \n",
    "    def forward(self, input):\n",
    "        '''\n",
    "        Performs a forward pass for a Linear Layer.\n",
    "        '''\n",
    "        self.input = input\n",
    "        self.output = self.mult.forward(self.input, self.weights)\n",
    "        self.output = self.add.forward(self.output, self.bias)\n",
    "        if self.relu_activation:\n",
    "            self.output = self.relu.forward(self.output) \n",
    "        return self.output\n",
    "    \n",
    "    def backward(self, prev_grad, learning_rate):\n",
    "        '''\n",
    "        Performs a backward pass for a Linear Layer.\\n\n",
    "        First output gradient corresponds to `input`.\\n\n",
    "        Second output gradient corresponds to `weights`.\\n\n",
    "        Third output gradient corresponds to the `bias`.\n",
    "        '''\n",
    "        if self.relu_activation:\n",
    "            self.grad = self.relu.backward(prev_grad)\n",
    "            self.grad = self.add.backward(self.grad)        \n",
    "        else:\n",
    "            self.grad = self.add.backward(prev_grad)\n",
    "        self.grad1, self.grad2 = self.mult.backward(self.grad)\n",
    "\n",
    "        self.weights = self.weights - (learning_rate * self.grad2)\n",
    "        self.bias = self.bias - (learning_rate * self.add.grad) \n",
    "\n",
    "        return self.grad1, self.grad2, self.add.grad"
   ]
  },
  {
   "cell_type": "code",
   "execution_count": 46,
   "id": "2152d849-72f5-4df8-a588-730bb1fb8428",
   "metadata": {
    "ExecuteTime": {
     "end_time": "2023-10-20T00:37:41.392011Z",
     "start_time": "2023-10-20T00:37:41.387846Z"
    }
   },
   "outputs": [
    {
     "name": "stdout",
     "output_type": "stream",
     "text": [
      "(200, 2)\n",
      "(2, 10)\n",
      "(10, 10)\n",
      "(10, 1)\n",
      "(10,)\n",
      "(10,)\n",
      "(1,)\n",
      "(200, 1)\n"
     ]
    }
   ],
   "source": [
    "x, w1, w2, w3, b1, b2, b3, y = data[\"inputs\"], data[\"w1\"], data[\"w2\"], data[\"w3\"], data[\"b1\"], data[\"b2\"], data[\"b3\"], data[\"targets\"] \n",
    "x = x\n",
    "w1 = w1.T\n",
    "w2 = w2.T\n",
    "w3 = w3.T\n",
    "y = np.matrix(y).T\n",
    "print(x.shape)\n",
    "print(w1.shape)\n",
    "print(w2.shape)\n",
    "print(w3.shape)\n",
    "print(b1.shape)\n",
    "print(b2.shape)\n",
    "print(b3.shape)\n",
    "print(y.shape)"
   ]
  },
  {
   "cell_type": "code",
   "execution_count": 47,
   "id": "29a9093c-9e97-4cf0-825e-6000409a8c76",
   "metadata": {
    "ExecuteTime": {
     "end_time": "2023-10-20T00:37:41.565791Z",
     "start_time": "2023-10-20T00:37:41.559803Z"
    }
   },
   "outputs": [
    {
     "name": "stdout",
     "output_type": "stream",
     "text": [
      "losses: [1.0760015998278625, 1.0705568413738078, 1.0652372122009053, 1.060042232016493, 1.054973670444831, 1.0500230554618881, 1.0451765331188836, 1.040429145943702, 1.0357770560443953, 1.031215182111265]\n"
     ]
    }
   ],
   "source": [
    "learning_rate = 0.01\n",
    "epochs = 10\n",
    "losses = []\n",
    "grad_avgs = []\n",
    "first_w1 = 0\n",
    "first_b1 = 0\n",
    "\n",
    "l1 = FullyConnectedLayer(w1, b1, True)\n",
    "l2 = FullyConnectedLayer(w2, b2, True)\n",
    "l3 = FullyConnectedLayer(w3, b3, False)\n",
    "p = Regression(y)\n",
    "\n",
    "for epoch in range(epochs):\n",
    "    y_pred = l1.forward(x)\n",
    "    y_pred = l2.forward(y_pred)\n",
    "    y_pred = l3.forward(y_pred)\n",
    "\n",
    "    grad = p.gradient(y_pred)\n",
    "    lo = p.loss(y_pred)\n",
    "    losses.append(lo)\n",
    "    \n",
    "    grad, grad_w3, grad_b3 = l3.backward(grad, learning_rate)\n",
    "    grad, grad_w2, grad_b2 = l2.backward(grad, learning_rate)\n",
    "    grad, grad_w1, grad_b1 = l1.backward(grad, learning_rate)\n",
    "\n",
    "    if epoch == 0:\n",
    "        first_w1 = l1.weights\n",
    "        first_b1 = l1.bias\n",
    "\n",
    "    avg = [np.average(w3), np.average(w2), np.average(w1), np.average(b3),\n",
    "          np.average(b2), np.average(b1)]\n",
    "    grad_avg = np.average(avg)\n",
    "    grad_avgs.append(grad_avg)\n",
    "        \n",
    "print(\"losses:\", losses)\n",
    "#print(first_layer_w_b)\n",
    "#print(grad_avgs)"
   ]
  },
  {
   "cell_type": "code",
   "execution_count": 48,
   "id": "bcad221e-20bd-4d05-832d-843b450154d9",
   "metadata": {
    "ExecuteTime": {
     "end_time": "2023-10-20T00:37:42.022452Z",
     "start_time": "2023-10-20T00:37:41.972146Z"
    }
   },
   "outputs": [
    {
     "data": {
      "text/plain": "<Figure size 640x480 with 1 Axes>",
      "image/png": "[encoded data removed]"
     },
     "metadata": {},
     "output_type": "display_data"
    }
   ],
   "source": [
    "import matplotlib.pyplot as plt\n",
    "plt.plot(np.arange(len(losses)),losses)\n",
    "plt.title(\"Loss vs. Epochs\")\n",
    "plt.show()"
   ]
  },
  {
   "cell_type": "code",
   "execution_count": null,
   "outputs": [],
   "source": [],
   "metadata": {
    "collapsed": false
   },
   "id": "5708ddc8c37e8a1c"
  }
 ],
 "metadata": {
  "kernelspec": {
   "display_name": "Python 3 (ipykernel)",
   "language": "python",
   "name": "python3"
  },
  "language_info": {
   "codemirror_mode": {
    "name": "ipython",
    "version": 3
   },
   "file_extension": ".py",
   "mimetype": "text/x-python",
   "name": "python",
   "nbconvert_exporter": "python",
   "pygments_lexer": "ipython3",
   "version": "3.11.1"
  }
 },
 "nbformat": 4,
 "nbformat_minor": 5
}
